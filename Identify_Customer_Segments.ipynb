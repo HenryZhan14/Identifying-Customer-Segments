{
 "cells": [
  {
   "cell_type": "markdown",
   "metadata": {},
   "source": [
    "# Project: Identify Customer Segments\n",
    "\n",
    "In this project, I applied unsupervised learning techniques to identify segments of the population that form the core customer base for a mail-order sales company in Germany. These segments can then be used to direct marketing campaigns towards audiences that will have the highest expected rate of returns. The data are provided by our partners at Bertelsmann Arvato Analytics, and represents a real-life data science task."
   ]
  },
  {
   "cell_type": "code",
   "execution_count": 1,
   "metadata": {},
   "outputs": [],
   "source": [
    "# import libraries here; add more as necessary\n",
    "import numpy as np\n",
    "import pandas as pd\n",
    "import matplotlib.pyplot as plt\n",
    "import seaborn as sns\n",
    "import random\n",
    "import markdown\n",
    "import codecs\n",
    "from bs4 import BeautifulSoup\n",
    "from sklearn.impute import SimpleImputer\n",
    "from sklearn.preprocessing import StandardScaler\n",
    "from sklearn.decomposition import PCA\n",
    "from sklearn.cluster import KMeans\n",
    "from sklearn.impute import SimpleImputer\n",
    "# magic word for producing visualizations in notebook\n",
    "%matplotlib inline"
   ]
  },
  {
   "cell_type": "markdown",
   "metadata": {},
   "source": [
    "### Step 0: Load the Data\n",
    "\n",
    "There are four files associated with this project (not including this one):\n",
    "\n",
    "- `Udacity_AZDIAS_Subset.csv`: Demographics data for the general population of Germany; 891211 persons (rows) x 85 features (columns).\n",
    "- `Udacity_CUSTOMERS_Subset.csv`: Demographics data for customers of a mail-order company; 191652 persons (rows) x 85 features (columns).\n",
    "- `Data_Dictionary.md`: Detailed information file about the features in the provided datasets.\n",
    "- `AZDIAS_Feature_Summary.csv`: Summary of feature attributes for demographics data; 85 features (rows) x 4 columns\n",
    "\n",
    "Each row of the demographics files represents a single person, but also includes information outside of individuals, including information about their household, building, and neighborhood. You will use this information to cluster the general population into groups with similar demographic properties. Then, you will see how the people in the customers dataset fit into those created clusters. The hope here is that certain clusters are over-represented in the customers data, as compared to the general population; those over-represented clusters will be assumed to be part of the core userbase. This information can then be used for further applications, such as targeting for a marketing campaign.\n",
    "\n",
    "To start off with, load in the demographics data for the general population into a pandas DataFrame, and do the same for the feature attributes summary. Note for all of the `.csv` data files in this project: they're semicolon (`;`) delimited, so you'll need an additional argument in your [`read_csv()`](https://pandas.pydata.org/pandas-docs/stable/generated/pandas.read_csv.html) call to read in the data properly. Also, considering the size of the main dataset, it may take some time for it to load completely.\n",
    "\n",
    "Once the dataset is loaded, it's recommended that you take a little bit of time just browsing the general structure of the dataset and feature summary file. You'll be getting deep into the innards of the cleaning in the first major step of the project, so gaining some general familiarity can help you get your bearings."
   ]
  },
  {
   "cell_type": "code",
   "execution_count": 2,
   "metadata": {},
   "outputs": [],
   "source": [
    "# Load in the general demographics data.\n",
    "azdias = pd.read_csv(\"Udacity_AZDIAS_Subset.csv\", sep=';')\n",
    "\n",
    "# Load in the feature summary file.\n",
    "feat_info = pd.read_csv(\"AZDIAS_Feature_Summary.csv\", sep=';')"
   ]
  },
  {
   "cell_type": "code",
   "execution_count": 3,
   "metadata": {},
   "outputs": [
    {
     "name": "stdout",
     "output_type": "stream",
     "text": [
      "(891221, 85)\n",
      "   AGER_TYP  ALTERSKATEGORIE_GROB  ANREDE_KZ  CJT_GESAMTTYP  \\\n",
      "0        -1                     2          1            2.0   \n",
      "1        -1                     1          2            5.0   \n",
      "2        -1                     3          2            3.0   \n",
      "3         2                     4          2            2.0   \n",
      "4        -1                     3          1            5.0   \n",
      "\n",
      "   FINANZ_MINIMALIST  FINANZ_SPARER  FINANZ_VORSORGER  FINANZ_ANLEGER  \\\n",
      "0                  3              4                 3               5   \n",
      "1                  1              5                 2               5   \n",
      "2                  1              4                 1               2   \n",
      "3                  4              2                 5               2   \n",
      "4                  4              3                 4               1   \n",
      "\n",
      "   FINANZ_UNAUFFAELLIGER  FINANZ_HAUSBAUER    ...     PLZ8_ANTG1  PLZ8_ANTG2  \\\n",
      "0                      5                 3    ...            NaN         NaN   \n",
      "1                      4                 5    ...            2.0         3.0   \n",
      "2                      3                 5    ...            3.0         3.0   \n",
      "3                      1                 2    ...            2.0         2.0   \n",
      "4                      3                 2    ...            2.0         4.0   \n",
      "\n",
      "   PLZ8_ANTG3  PLZ8_ANTG4  PLZ8_BAUMAX  PLZ8_HHZ  PLZ8_GBZ  ARBEIT  \\\n",
      "0         NaN         NaN          NaN       NaN       NaN     NaN   \n",
      "1         2.0         1.0          1.0       5.0       4.0     3.0   \n",
      "2         1.0         0.0          1.0       4.0       4.0     3.0   \n",
      "3         2.0         0.0          1.0       3.0       4.0     2.0   \n",
      "4         2.0         1.0          2.0       3.0       3.0     4.0   \n",
      "\n",
      "   ORTSGR_KLS9  RELAT_AB  \n",
      "0          NaN       NaN  \n",
      "1          5.0       4.0  \n",
      "2          5.0       2.0  \n",
      "3          3.0       3.0  \n",
      "4          6.0       5.0  \n",
      "\n",
      "[5 rows x 85 columns]\n",
      "            AGER_TYP  ALTERSKATEGORIE_GROB      ANREDE_KZ  CJT_GESAMTTYP  \\\n",
      "count  891221.000000         891221.000000  891221.000000  886367.000000   \n",
      "mean       -0.358435              2.777398       1.522098       3.632838   \n",
      "std         1.198724              1.068775       0.499512       1.595021   \n",
      "min        -1.000000              1.000000       1.000000       1.000000   \n",
      "25%        -1.000000              2.000000       1.000000       2.000000   \n",
      "50%        -1.000000              3.000000       2.000000       4.000000   \n",
      "75%        -1.000000              4.000000       2.000000       5.000000   \n",
      "max         3.000000              9.000000       2.000000       6.000000   \n",
      "\n",
      "       FINANZ_MINIMALIST  FINANZ_SPARER  FINANZ_VORSORGER  FINANZ_ANLEGER  \\\n",
      "count      891221.000000  891221.000000     891221.000000   891221.000000   \n",
      "mean            3.074528       2.821039          3.401106        3.033328   \n",
      "std             1.321055       1.464749          1.322134        1.529603   \n",
      "min             1.000000       1.000000          1.000000        1.000000   \n",
      "25%             2.000000       1.000000          3.000000        2.000000   \n",
      "50%             3.000000       3.000000          3.000000        3.000000   \n",
      "75%             4.000000       4.000000          5.000000        5.000000   \n",
      "max             5.000000       5.000000          5.000000        5.000000   \n",
      "\n",
      "       FINANZ_UNAUFFAELLIGER  FINANZ_HAUSBAUER      ...          PLZ8_ANTG1  \\\n",
      "count          891221.000000     891221.000000      ...       774706.000000   \n",
      "mean                2.874167          3.075121      ...            2.253330   \n",
      "std                 1.486731          1.353248      ...            0.972008   \n",
      "min                 1.000000          1.000000      ...            0.000000   \n",
      "25%                 2.000000          2.000000      ...            1.000000   \n",
      "50%                 3.000000          3.000000      ...            2.000000   \n",
      "75%                 4.000000          4.000000      ...            3.000000   \n",
      "max                 5.000000          5.000000      ...            4.000000   \n",
      "\n",
      "          PLZ8_ANTG2     PLZ8_ANTG3     PLZ8_ANTG4    PLZ8_BAUMAX  \\\n",
      "count  774706.000000  774706.000000  774706.000000  774706.000000   \n",
      "mean        2.801858       1.595426       0.699166       1.943913   \n",
      "std         0.920309       0.986736       0.727137       1.459654   \n",
      "min         0.000000       0.000000       0.000000       1.000000   \n",
      "25%         2.000000       1.000000       0.000000       1.000000   \n",
      "50%         3.000000       2.000000       1.000000       1.000000   \n",
      "75%         3.000000       2.000000       1.000000       3.000000   \n",
      "max         4.000000       3.000000       2.000000       5.000000   \n",
      "\n",
      "            PLZ8_HHZ       PLZ8_GBZ         ARBEIT    ORTSGR_KLS9  \\\n",
      "count  774706.000000  774706.000000  794005.000000  794005.000000   \n",
      "mean        3.612821       3.381087       3.167854       5.293002   \n",
      "std         0.973967       1.111598       1.002376       2.303739   \n",
      "min         1.000000       1.000000       1.000000       0.000000   \n",
      "25%         3.000000       3.000000       3.000000       4.000000   \n",
      "50%         4.000000       3.000000       3.000000       5.000000   \n",
      "75%         4.000000       4.000000       4.000000       7.000000   \n",
      "max         5.000000       5.000000       9.000000       9.000000   \n",
      "\n",
      "           RELAT_AB  \n",
      "count  794005.00000  \n",
      "mean        3.07222  \n",
      "std         1.36298  \n",
      "min         1.00000  \n",
      "25%         2.00000  \n",
      "50%         3.00000  \n",
      "75%         4.00000  \n",
      "max         9.00000  \n",
      "\n",
      "[8 rows x 81 columns]\n"
     ]
    }
   ],
   "source": [
    "# Check the structure of the data after it's loaded (e.g. print the number of\n",
    "# rows and columns, print the first few rows).\n",
    "print(azdias.shape)\n",
    "print(azdias.head())\n",
    "print(azdias.describe())"
   ]
  },
  {
   "cell_type": "code",
   "execution_count": 4,
   "metadata": {},
   "outputs": [
    {
     "name": "stdout",
     "output_type": "stream",
     "text": [
      "(85, 4)\n",
      "              attribute information_level         type missing_or_unknown\n",
      "0              AGER_TYP            person  categorical             [-1,0]\n",
      "1  ALTERSKATEGORIE_GROB            person      ordinal           [-1,0,9]\n",
      "2             ANREDE_KZ            person  categorical             [-1,0]\n",
      "3         CJT_GESAMTTYP            person  categorical                [0]\n",
      "4     FINANZ_MINIMALIST            person      ordinal               [-1]\n",
      "         attribute information_level     type missing_or_unknown\n",
      "count           85                85       85                 85\n",
      "unique          85                 9        5                  9\n",
      "top     SEMIO_KAEM            person  ordinal               [-1]\n",
      "freq             1                43       49                 26\n",
      "                attribute information_level         type missing_or_unknown\n",
      "0                AGER_TYP            person  categorical             [-1,0]\n",
      "1    ALTERSKATEGORIE_GROB            person      ordinal           [-1,0,9]\n",
      "2               ANREDE_KZ            person  categorical             [-1,0]\n",
      "3           CJT_GESAMTTYP            person  categorical                [0]\n",
      "4       FINANZ_MINIMALIST            person      ordinal               [-1]\n",
      "5           FINANZ_SPARER            person      ordinal               [-1]\n",
      "6        FINANZ_VORSORGER            person      ordinal               [-1]\n",
      "7          FINANZ_ANLEGER            person      ordinal               [-1]\n",
      "8   FINANZ_UNAUFFAELLIGER            person      ordinal               [-1]\n",
      "9        FINANZ_HAUSBAUER            person      ordinal               [-1]\n",
      "10              FINANZTYP            person  categorical               [-1]\n",
      "11            GEBURTSJAHR            person      numeric                [0]\n",
      "12        GFK_URLAUBERTYP            person  categorical                 []\n",
      "13       GREEN_AVANTGARDE            person  categorical                 []\n",
      "14             HEALTH_TYP            person      ordinal             [-1,0]\n",
      "15    LP_LEBENSPHASE_FEIN            person        mixed                [0]\n",
      "16    LP_LEBENSPHASE_GROB            person        mixed                [0]\n",
      "17        LP_FAMILIE_FEIN            person  categorical                [0]\n",
      "18        LP_FAMILIE_GROB            person  categorical                [0]\n",
      "19         LP_STATUS_FEIN            person  categorical                [0]\n",
      "20         LP_STATUS_GROB            person  categorical                [0]\n",
      "21       NATIONALITAET_KZ            person  categorical             [-1,0]\n",
      "22  PRAEGENDE_JUGENDJAHRE            person        mixed             [-1,0]\n",
      "23         RETOURTYP_BK_S            person      ordinal                [0]\n",
      "24              SEMIO_SOZ            person      ordinal             [-1,9]\n",
      "25              SEMIO_FAM            person      ordinal             [-1,9]\n",
      "26              SEMIO_REL            person      ordinal             [-1,9]\n",
      "27              SEMIO_MAT            person      ordinal             [-1,9]\n",
      "28             SEMIO_VERT            person      ordinal             [-1,9]\n",
      "29             SEMIO_LUST            person      ordinal             [-1,9]\n",
      "..                    ...               ...          ...                ...\n",
      "55            OST_WEST_KZ          building  categorical               [-1]\n",
      "56               WOHNLAGE          building        mixed               [-1]\n",
      "57        CAMEO_DEUG_2015     microcell_rr4  categorical             [-1,X]\n",
      "58         CAMEO_DEU_2015     microcell_rr4  categorical               [XX]\n",
      "59        CAMEO_INTL_2015     microcell_rr4        mixed            [-1,XX]\n",
      "60            KBA05_ANTG1     microcell_rr3      ordinal               [-1]\n",
      "61            KBA05_ANTG2     microcell_rr3      ordinal               [-1]\n",
      "62            KBA05_ANTG3     microcell_rr3      ordinal               [-1]\n",
      "63            KBA05_ANTG4     microcell_rr3      ordinal               [-1]\n",
      "64           KBA05_BAUMAX     microcell_rr3        mixed             [-1,0]\n",
      "65              KBA05_GBZ     microcell_rr3      ordinal             [-1,0]\n",
      "66               BALLRAUM          postcode      ordinal               [-1]\n",
      "67               EWDICHTE          postcode      ordinal               [-1]\n",
      "68             INNENSTADT          postcode      ordinal               [-1]\n",
      "69     GEBAEUDETYP_RASTER        region_rr1      ordinal                 []\n",
      "70                    KKK        region_rr1      ordinal             [-1,0]\n",
      "71             MOBI_REGIO        region_rr1      ordinal                 []\n",
      "72      ONLINE_AFFINITAET        region_rr1      ordinal                 []\n",
      "73               REGIOTYP        region_rr1      ordinal             [-1,0]\n",
      "74       KBA13_ANZAHL_PKW    macrocell_plz8      numeric                 []\n",
      "75             PLZ8_ANTG1    macrocell_plz8      ordinal               [-1]\n",
      "76             PLZ8_ANTG2    macrocell_plz8      ordinal               [-1]\n",
      "77             PLZ8_ANTG3    macrocell_plz8      ordinal               [-1]\n",
      "78             PLZ8_ANTG4    macrocell_plz8      ordinal               [-1]\n",
      "79            PLZ8_BAUMAX    macrocell_plz8        mixed             [-1,0]\n",
      "80               PLZ8_HHZ    macrocell_plz8      ordinal               [-1]\n",
      "81               PLZ8_GBZ    macrocell_plz8      ordinal               [-1]\n",
      "82                 ARBEIT         community      ordinal             [-1,9]\n",
      "83            ORTSGR_KLS9         community      ordinal             [-1,0]\n",
      "84               RELAT_AB         community      ordinal             [-1,9]\n",
      "\n",
      "[85 rows x 4 columns]\n"
     ]
    }
   ],
   "source": [
    "print(feat_info.shape)\n",
    "print(feat_info.head())\n",
    "print(feat_info.describe())\n",
    "print(feat_info)"
   ]
  },
  {
   "cell_type": "markdown",
   "metadata": {},
   "source": [
    "> **Tip**: Add additional cells to keep everything in reasonably-sized chunks! Keyboard shortcut `esc --> a` (press escape to enter command mode, then press the 'A' key) adds a new cell before the active cell, and `esc --> b` adds a new cell after the active cell. If you need to convert an active cell to a markdown cell, use `esc --> m` and to convert to a code cell, use `esc --> y`. \n",
    "\n",
    "## Step 1: Preprocessing\n",
    "\n",
    "### Step 1.1: Assess Missing Data\n",
    "\n",
    "The feature summary file contains a summary of properties for each demographics data column. You will use this file to help you make cleaning decisions during this stage of the project. First of all, you should assess the demographics data in terms of missing data. Pay attention to the following points as you perform your analysis, and take notes on what you observe. Make sure that you fill in the **Discussion** cell with your findings and decisions at the end of each step that has one!\n",
    "\n",
    "#### Step 1.1.1: Convert Missing Value Codes to NaNs\n",
    "The fourth column of the feature attributes summary (loaded in above as `feat_info`) documents the codes from the data dictionary that indicate missing or unknown data. While the file encodes this as a list (e.g. `[-1,0]`), this will get read in as a string object. You'll need to do a little bit of parsing to make use of it to identify and clean the data. Convert data that matches a 'missing' or 'unknown' value code into a numpy NaN value. You might want to see how much data takes on a 'missing' or 'unknown' code, and how much data is naturally missing, as a point of interest.\n",
    "\n",
    "**As one more reminder, you are encouraged to add additional cells to break up your analysis into manageable chunks.**"
   ]
  },
  {
   "cell_type": "code",
   "execution_count": 5,
   "metadata": {},
   "outputs": [
    {
     "name": "stdout",
     "output_type": "stream",
     "text": [
      "{0: (0.7695543529607134, 685843, 891221, 'AGER_TYP'), 1: (0.0032326437550282143, 2881, 891221, 'ALTERSKATEGORIE_GROB'), 2: (0.0, 0, 891221, 'ANREDE_KZ'), 3: (0.005446460529992, 4854, 891221, 'CJT_GESAMTTYP'), 4: (0.0, 0, 891221, 'FINANZ_MINIMALIST'), 5: (0.0, 0, 891221, 'FINANZ_SPARER'), 6: (0.0, 0, 891221, 'FINANZ_VORSORGER'), 7: (0.0, 0, 891221, 'FINANZ_ANLEGER'), 8: (0.0, 0, 891221, 'FINANZ_UNAUFFAELLIGER'), 9: (0.0, 0, 891221, 'FINANZ_HAUSBAUER'), 10: (0.0, 0, 891221, 'FINANZTYP'), 11: (0.4402028228688507, 392318, 891221, 'GEBURTSJAHR'), 12: (0.005446460529992, 4854, 891221, 'GFK_URLAUBERTYP'), 13: (0.0, 0, 891221, 'GREEN_AVANTGARDE'), 14: (0.12476815514894735, 111196, 891221, 'HEALTH_TYP'), 15: (0.10954858559212585, 97632, 891221, 'LP_LEBENSPHASE_FEIN'), 16: (0.10611509378706292, 94572, 891221, 'LP_LEBENSPHASE_GROB'), 17: (0.08728699166648901, 77792, 891221, 'LP_FAMILIE_FEIN'), 18: (0.08728699166648901, 77792, 891221, 'LP_FAMILIE_GROB'), 19: (0.005446460529992, 4854, 891221, 'LP_STATUS_FEIN'), 20: (0.005446460529992, 4854, 891221, 'LP_STATUS_GROB'), 21: (0.12153551139391913, 108315, 891221, 'NATIONALITAET_KZ'), 22: (0.12136608091595687, 108164, 891221, 'PRAEGENDE_JUGENDJAHRE'), 23: (0.005446460529992, 4854, 891221, 'RETOURTYP_BK_S'), 24: (0.0, 0, 891221, 'SEMIO_SOZ'), 25: (0.0, 0, 891221, 'SEMIO_FAM'), 26: (0.0, 0, 891221, 'SEMIO_REL'), 27: (0.0, 0, 891221, 'SEMIO_MAT'), 28: (0.0, 0, 891221, 'SEMIO_VERT'), 29: (0.0, 0, 891221, 'SEMIO_LUST'), 30: (0.0, 0, 891221, 'SEMIO_ERL'), 31: (0.0, 0, 891221, 'SEMIO_KULT'), 32: (0.0, 0, 891221, 'SEMIO_RAT'), 33: (0.0, 0, 891221, 'SEMIO_KRIT'), 34: (0.0, 0, 891221, 'SEMIO_DOM'), 35: (0.0, 0, 891221, 'SEMIO_KAEM'), 36: (0.0, 0, 891221, 'SEMIO_PFLICHT'), 37: (0.0, 0, 891221, 'SEMIO_TRADV'), 38: (0.12476815514894735, 111196, 891221, 'SHOPPER_TYP'), 39: (0.08247000463409188, 73499, 891221, 'SOHO_KZ'), 40: (0.9975763587258379, 889061, 891221, 'TITEL_KZ'), 41: (0.12476815514894735, 111196, 891221, 'VERS_TYP'), 42: (0.0, 0, 891221, 'ZABEOTYP'), 43: (0.34813699407890975, 310267, 891221, 'ALTER_HH'), 44: (0.08247000463409188, 73499, 891221, 'ANZ_PERSONEN'), 45: (0.08247000463409188, 73499, 891221, 'ANZ_TITEL'), 46: (0.020587486156632306, 18348, 891221, 'HH_EINKOMMEN_SCORE'), 47: (0.6559674873011295, 584612, 891221, 'KK_KUNDENTYP'), 48: (0.16605084485217472, 147988, 891221, 'W_KEIT_KIND_HH'), 49: (0.08247000463409188, 73499, 891221, 'WOHNDAUER_2008'), 50: (0.11176913470396231, 99611, 891221, 'ANZ_HAUSHALTE_AKTIV'), 51: (0.10884842255736793, 97008, 891221, 'ANZ_HH_TITEL'), 52: (0.10451728583594866, 93148, 891221, 'GEBAEUDETYP'), 53: (0.08299737102245122, 73969, 891221, 'KONSUMNAEHE'), 54: (0.10451728583594866, 93148, 891221, 'MIN_GEBAEUDEJAHR'), 55: (0.10451728583594866, 93148, 891221, 'OST_WEST_KZ'), 56: (0.10451728583594866, 93148, 891221, 'WOHNLAGE'), 57: (0.11147852216229195, 99352, 891221, 'CAMEO_DEUG_2015'), 58: (0.11147852216229195, 99352, 891221, 'CAMEO_DEU_2015'), 59: (0.11147852216229195, 99352, 891221, 'CAMEO_INTL_2015'), 60: (0.14959701353536328, 133324, 891221, 'KBA05_ANTG1'), 61: (0.14959701353536328, 133324, 891221, 'KBA05_ANTG2'), 62: (0.14959701353536328, 133324, 891221, 'KBA05_ANTG3'), 63: (0.14959701353536328, 133324, 891221, 'KBA05_ANTG4'), 64: (0.5346866826522265, 476524, 891221, 'KBA05_BAUMAX'), 65: (0.14959701353536328, 133324, 891221, 'KBA05_GBZ'), 66: (0.10518154307405234, 93740, 891221, 'BALLRAUM'), 67: (0.10518154307405234, 93740, 891221, 'EWDICHTE'), 68: (0.10518154307405234, 93740, 891221, 'INNENSTADT'), 69: (0.10452514022896678, 93155, 891221, 'GEBAEUDETYP_RASTER'), 70: (0.17735668257368262, 158064, 891221, 'KKK'), 71: (0.14959701353536328, 133324, 891221, 'MOBI_REGIO'), 72: (0.005446460529992, 4854, 891221, 'ONLINE_AFFINITAET'), 73: (0.17735668257368262, 158064, 891221, 'REGIOTYP'), 74: (0.11871354018812394, 105800, 891221, 'KBA13_ANZAHL_PKW'), 75: (0.13073637178657146, 116515, 891221, 'PLZ8_ANTG1'), 76: (0.13073637178657146, 116515, 891221, 'PLZ8_ANTG2'), 77: (0.13073637178657146, 116515, 891221, 'PLZ8_ANTG3'), 78: (0.13073637178657146, 116515, 891221, 'PLZ8_ANTG4'), 79: (0.13073637178657146, 116515, 891221, 'PLZ8_BAUMAX'), 80: (0.13073637178657146, 116515, 891221, 'PLZ8_HHZ'), 81: (0.13073637178657146, 116515, 891221, 'PLZ8_GBZ'), 82: (0.10926021716274639, 97375, 891221, 'ARBEIT'), 83: (0.1091468894920564, 97274, 891221, 'ORTSGR_KLS9'), 84: (0.10926021716274639, 97375, 891221, 'RELAT_AB')}\n"
     ]
    }
   ],
   "source": [
    "# Identify missing or unknown data values and convert them to NaNs.\n",
    "feat_num = azdias.shape[1]\n",
    "azdias_trans = azdias.copy()\n",
    "miss_values = {}\n",
    "for i in range(feat_num):\n",
    "    if feat_info['missing_or_unknown'][i] != '[]':\n",
    "    # when feat_info['missing_or_unknown'][i] == '[]', the corresponding columns have been treated with np.nan\n",
    "        miss_value_strings = feat_info['missing_or_unknown'][i][1:-1].split(',')\n",
    "        miss_value_set = set()\n",
    "        for string in miss_value_strings:\n",
    "            try:\n",
    "                miss_value_set.add(int(string))\n",
    "            except:\n",
    "                miss_value_set.add(string)\n",
    "        azdias_trans.iloc[:,i] = azdias_trans.iloc[:,i].apply(lambda x: np.nan if x in miss_value_set else x)\n",
    "    miss_values[i] = (azdias_trans.iloc[:,i].isna().sum() / len(azdias_trans.iloc[:,i]), \\\n",
    "                      azdias_trans.iloc[:,i].isna().sum(), \\\n",
    "                      len(azdias_trans.iloc[:,i]), \\\n",
    "                      azdias_trans.columns[i])\n",
    "\n",
    "print(miss_values)\n"
   ]
  },
  {
   "cell_type": "markdown",
   "metadata": {},
   "source": [
    "#### Step 1.1.2: Assess Missing Data in Each Column\n",
    "\n",
    "How much missing data is present in each column? There are a few columns that are outliers in terms of the proportion of values that are missing. You will want to use matplotlib's [`hist()`](https://matplotlib.org/api/_as_gen/matplotlib.pyplot.hist.html) function to visualize the distribution of missing value counts to find these columns. Identify and document these columns. While some of these columns might have justifications for keeping or re-encoding the data, for this project you should just remove them from the dataframe. (Feel free to make remarks about these outlier columns in the discussion, however!)\n",
    "\n",
    "For the remaining features, are there any patterns in which columns have, or share, missing data?"
   ]
  },
  {
   "cell_type": "code",
   "execution_count": 6,
   "metadata": {},
   "outputs": [
    {
     "name": "stdout",
     "output_type": "stream",
     "text": [
      "[685843, 2881, 0, 4854, 0, 0, 0, 0, 0, 0, 0, 392318, 4854, 0, 111196, 97632, 94572, 77792, 77792, 4854, 4854, 108315, 108164, 4854, 0, 0, 0, 0, 0, 0, 0, 0, 0, 0, 0, 0, 0, 0, 111196, 73499, 889061, 111196, 0, 310267, 73499, 73499, 18348, 584612, 147988, 73499, 99611, 97008, 93148, 73969, 93148, 93148, 93148, 99352, 99352, 99352, 133324, 133324, 133324, 133324, 476524, 133324, 93740, 93740, 93740, 93155, 158064, 133324, 4854, 158064, 105800, 116515, 116515, 116515, 116515, 116515, 116515, 116515, 97375, 97274, 97375]\n",
      "85\n"
     ]
    }
   ],
   "source": [
    "# Perform an assessment of how much missing data there is in each column of the\n",
    "# dataset.\n",
    "missing_data_counts = [miss_values[i][1] for i in range(feat_num)]\n",
    "print(missing_data_counts)\n",
    "print(len(missing_data_counts))\n"
   ]
  },
  {
   "cell_type": "code",
   "execution_count": 7,
   "metadata": {},
   "outputs": [
    {
     "data": {
      "image/png": "[encoded data removed]",
      "text/plain": [
       "<Figure size 4320x360 with 1 Axes>"
      ]
     },
     "metadata": {
      "needs_background": "light"
     },
     "output_type": "display_data"
    }
   ],
   "source": [
    "# Investigate patterns in the amount of missing data in each column.\n",
    "names = [miss_values[i][3] for i in range(feat_num)]\n",
    "values = missing_data_counts\n",
    "\n",
    "plt.figure(1, figsize=(60, 5))\n",
    "\n",
    "\n",
    "plt.subplot(131)\n",
    "plt.bar(names, values)\n",
    "plt.xticks(rotation=90)\n",
    "plt.xlabel('Feature Name', fontsize=20)\n",
    "plt.ylabel('Missing Value Count', fontsize=20)\n",
    "plt.title('Missing value count of features', fontsize=20)\n",
    "plt.show()\n"
   ]
  },
  {
   "cell_type": "code",
   "execution_count": 8,
   "metadata": {},
   "outputs": [
    {
     "name": "stdout",
     "output_type": "stream",
     "text": [
      "(891221, 81)\n",
      "['AGER_TYP', 'TITEL_KZ', 'KK_KUNDENTYP', 'KBA05_BAUMAX']\n"
     ]
    }
   ],
   "source": [
    "# Remove the outlier columns from the dataset. (You'll perform other data\n",
    "# engineering tasks such as re-encoding and imputation later.)\n",
    "removed_features = []\n",
    "for v in miss_values.values():\n",
    "    if v[1] > 0.5 * azdias_trans.shape[0]:\n",
    "        removed_features.append(v[3])\n",
    "        azdias_trans = azdias_trans.drop(v[3], axis=1)\n",
    "print(azdias_trans.shape)\n",
    "print(removed_features)"
   ]
  },
  {
   "cell_type": "markdown",
   "metadata": {},
   "source": [
    "#### Discussion 1.1.2: Assess Missing Data in Each Column\n",
    "\n",
    "(Double click this cell and replace this text with your own text, reporting your observations regarding the amount of missing data in each column. Are there any patterns in missing values? Which columns were removed from the dataset?)\n",
    "\n",
    "Answer:\n",
    "There are some patterns in the features which have a large number of miss values. First, some of those features are abstract/ambiguous. For example, feature 'KK_KUNDENTYP' includes the information about consumer pattern over past 12 months. But the options, stray customer/inactive customer/passive customer, are kinda vague. In the case, people may choose the option 'unknown' for the question. Besides, some features target at some specific groups of people, e.g. feature 'AGER_TYP' and 'TITEL_KZ'. People who are not in the groups may choose the option 'unknown'.\n",
    "\n",
    "The columns I removed include 'AGER_TYP', 'TITEL_KZ', 'KK_KUNDENTYP', and 'KBA05_BAUMAX'. My criterion is the percentage of the mssing values in the column. If over 50% of the cells have missing values in a column, I remove this column."
   ]
  },
  {
   "cell_type": "markdown",
   "metadata": {},
   "source": [
    "#### Step 1.1.3: Assess Missing Data in Each Row\n",
    "\n",
    "Now, you'll perform a similar assessment for the rows of the dataset. How much data is missing in each row? As with the columns, you should see some groups of points that have a very different numbers of missing values. Divide the data into two subsets: one for data points that are above some threshold for missing values, and a second subset for points below that threshold.\n",
    "\n",
    "In order to know what to do with the outlier rows, we should see if the distribution of data values on columns that are not missing data (or are missing very little data) are similar or different between the two groups. Select at least five of these columns and compare the distribution of values.\n",
    "- You can use seaborn's [`countplot()`](https://seaborn.pydata.org/generated/seaborn.countplot.html) function to create a bar chart of code frequencies and matplotlib's [`subplot()`](https://matplotlib.org/api/_as_gen/matplotlib.pyplot.subplot.html) function to put bar charts for the two subplots side by side.\n",
    "- To reduce repeated code, you might want to write a function that can perform this comparison, taking as one of its arguments a column to be compared.\n",
    "\n",
    "Depending on what you observe in your comparison, this will have implications on how you approach your conclusions later in the analysis. If the distributions of non-missing features look similar between the data with many missing values and the data with few or no missing values, then we could argue that simply dropping those points from the analysis won't present a major issue. On the other hand, if the data with many missing values looks very different from the data with few or no missing values, then we should make a note on those data as special. We'll revisit these data later on. **Either way, you should continue your analysis for now using just the subset of the data with few or no missing values.**"
   ]
  },
  {
   "cell_type": "code",
   "execution_count": 9,
   "metadata": {},
   "outputs": [
    {
     "data": {
      "text/plain": [
       "0         45\n",
       "1          1\n",
       "2          0\n",
       "3          7\n",
       "4          0\n",
       "5          0\n",
       "6          2\n",
       "7          0\n",
       "8          0\n",
       "9          0\n",
       "10         0\n",
       "11        49\n",
       "12         7\n",
       "13         8\n",
       "14        49\n",
       "15         8\n",
       "16         6\n",
       "17        49\n",
       "18         5\n",
       "19         2\n",
       "20        12\n",
       "21         2\n",
       "22         2\n",
       "23         9\n",
       "24        49\n",
       "25         5\n",
       "26        21\n",
       "27         1\n",
       "28         0\n",
       "29         2\n",
       "          ..\n",
       "891191     0\n",
       "891192     1\n",
       "891193     0\n",
       "891194     0\n",
       "891195     1\n",
       "891196     0\n",
       "891197     0\n",
       "891198     0\n",
       "891199     2\n",
       "891200     1\n",
       "891201     0\n",
       "891202     2\n",
       "891203    16\n",
       "891204     0\n",
       "891205     0\n",
       "891206     0\n",
       "891207     0\n",
       "891208     3\n",
       "891209     2\n",
       "891210     2\n",
       "891211     0\n",
       "891212     1\n",
       "891213     0\n",
       "891214     0\n",
       "891215     2\n",
       "891216     3\n",
       "891217     4\n",
       "891218     5\n",
       "891219     1\n",
       "891220     2\n",
       "Length: 891221, dtype: int64"
      ]
     },
     "execution_count": 9,
     "metadata": {},
     "output_type": "execute_result"
    }
   ],
   "source": [
    "# How much data is missing in each row of the dataset?\n",
    "missing_in_raws = azdias_trans.isnull().sum(axis=1)\n",
    "missing_in_raws"
   ]
  },
  {
   "cell_type": "code",
   "execution_count": 10,
   "metadata": {},
   "outputs": [
    {
     "name": "stdout",
     "output_type": "stream",
     "text": [
      "(817178, 81)\n",
      "(74043, 81)\n"
     ]
    }
   ],
   "source": [
    "# Write code to divide the data into two subsets based on the number of missing\n",
    "# values in each row.\n",
    "missing_threshold = 0.5\n",
    "\n",
    "azdias_trans_nonmissing_raws = azdias_trans.dropna(axis=0, thresh=int(azdias_trans.shape[1]*missing_threshold), inplace=False)\n",
    "\n",
    "azdias_trans_missing_indices = azdias_trans.index.difference(azdias_trans_nonmissing_raws.index)\n",
    "azdias_trans_missing_raws = azdias_trans.iloc[azdias_trans_missing_indices]\n",
    "print(azdias_trans_nonmissing_raws.shape)\n",
    "print(azdias_trans_missing_raws.shape)"
   ]
  },
  {
   "cell_type": "code",
   "execution_count": 11,
   "metadata": {},
   "outputs": [
    {
     "name": "stdout",
     "output_type": "stream",
     "text": [
      "['ALTERSKATEGORIE_GROB', 'ANREDE_KZ', 'CJT_GESAMTTYP', 'FINANZ_MINIMALIST', 'FINANZ_SPARER', 'FINANZ_VORSORGER', 'FINANZ_ANLEGER', 'FINANZ_UNAUFFAELLIGER', 'FINANZ_HAUSBAUER', 'FINANZTYP', 'GFK_URLAUBERTYP', 'GREEN_AVANTGARDE', 'LP_STATUS_FEIN', 'LP_STATUS_GROB', 'RETOURTYP_BK_S', 'SEMIO_SOZ', 'SEMIO_FAM', 'SEMIO_REL', 'SEMIO_MAT', 'SEMIO_VERT', 'SEMIO_LUST', 'SEMIO_ERL', 'SEMIO_KULT', 'SEMIO_RAT', 'SEMIO_KRIT', 'SEMIO_DOM', 'SEMIO_KAEM', 'SEMIO_PFLICHT', 'SEMIO_TRADV', 'ZABEOTYP', 'HH_EINKOMMEN_SCORE', 'ONLINE_AFFINITAET']\n",
      "32\n",
      "[22, 10, 17, 21, 6]\n",
      "['SEMIO_KULT', 'GFK_URLAUBERTYP', 'SEMIO_REL', 'SEMIO_ERL', 'FINANZ_ANLEGER']\n"
     ]
    }
   ],
   "source": [
    "# Compare the distribution of values for at least five columns where there are\n",
    "# no or few missing values, between the two subsets.\n",
    "missing_percentage_threshold = 0.05\n",
    "nonmissing_columns = []\n",
    "for k in miss_values.values():\n",
    "    if k[0] <= missing_percentage_threshold:\n",
    "        nonmissing_columns.append(k[3])\n",
    "print(nonmissing_columns)\n",
    "print(len(nonmissing_columns))\n",
    "selected_column_index = random.sample(range(len(nonmissing_columns)), 5)\n",
    "print(selected_column_index)\n",
    "selected_column = [nonmissing_columns[i] for i in selected_column_index]\n",
    "print(selected_column)\n",
    "\n",
    "def distribution_comparison(column):\n",
    "    sns.set(style=\"white\", palette=\"muted\", color_codes=True)\n",
    "    f, axes = plt.subplots(1, 2, figsize=(7, 3))\n",
    "\n",
    "    sns.countplot(x=column, data=azdias_trans_nonmissing_raws, ax=axes[0])\n",
    "    sns.countplot(x=column, data=azdias_trans_missing_raws, ax=axes[1])\n",
    "\n",
    "    plt.setp(axes, yticks=[])\n",
    "    plt.tight_layout()"
   ]
  },
  {
   "cell_type": "code",
   "execution_count": 12,
   "metadata": {},
   "outputs": [
    {
     "data": {
      "image/png": "[encoded data removed]",
      "text/plain": [
       "<Figure size 504x216 with 2 Axes>"
      ]
     },
     "metadata": {},
     "output_type": "display_data"
    }
   ],
   "source": [
    "# column1 comparison\n",
    "distribution_comparison(selected_column[0])"
   ]
  },
  {
   "cell_type": "code",
   "execution_count": 13,
   "metadata": {},
   "outputs": [
    {
     "data": {
      "image/png": "[encoded data removed]",
      "text/plain": [
       "<Figure size 504x216 with 2 Axes>"
      ]
     },
     "metadata": {},
     "output_type": "display_data"
    }
   ],
   "source": [
    "# column2 comparison\n",
    "distribution_comparison(selected_column[1])"
   ]
  },
  {
   "cell_type": "code",
   "execution_count": 14,
   "metadata": {},
   "outputs": [
    {
     "data": {
      "image/png": "[encoded data removed]",
      "text/plain": [
       "<Figure size 504x216 with 2 Axes>"
      ]
     },
     "metadata": {},
     "output_type": "display_data"
    }
   ],
   "source": [
    "# column3 comparison\n",
    "distribution_comparison(selected_column[2])"
   ]
  },
  {
   "cell_type": "code",
   "execution_count": 15,
   "metadata": {},
   "outputs": [
    {
     "data": {
      "image/png": "[encoded data removed]",
      "text/plain": [
       "<Figure size 504x216 with 2 Axes>"
      ]
     },
     "metadata": {},
     "output_type": "display_data"
    }
   ],
   "source": [
    "# column4 comparison\n",
    "distribution_comparison(selected_column[3])"
   ]
  },
  {
   "cell_type": "code",
   "execution_count": 16,
   "metadata": {},
   "outputs": [
    {
     "data": {
      "image/png": "[encoded data removed]",
      "text/plain": [
       "<Figure size 504x216 with 2 Axes>"
      ]
     },
     "metadata": {},
     "output_type": "display_data"
    }
   ],
   "source": [
    "# column5 comparison\n",
    "distribution_comparison(selected_column[4])"
   ]
  },
  {
   "cell_type": "markdown",
   "metadata": {},
   "source": [
    "#### Discussion 1.1.3: Assess Missing Data in Each Row\n",
    "\n",
    "(Double-click this cell and replace this text with your own text, reporting your observations regarding missing data in rows. Are the data with lots of missing values are qualitatively different from data with few or no missing values?)\n",
    "\n",
    "Answer: \n",
    "Yes, there are differences between the two subsets. An interesting finding from the column 'GFK_URLAUBERTYP' is that people who are nature fans for vacation tend to have more missing values in their data. Since those people might stay in the wild for a long time, it is hard to get them finishing the surveys."
   ]
  },
  {
   "cell_type": "markdown",
   "metadata": {},
   "source": [
    "### Step 1.2: Select and Re-Encode Features\n",
    "\n",
    "Checking for missing data isn't the only way in which you can prepare a dataset for analysis. Since the unsupervised learning techniques to be used will only work on data that is encoded numerically, you need to make a few encoding changes or additional assumptions to be able to make progress. In addition, while almost all of the values in the dataset are encoded using numbers, not all of them represent numeric values. Check the third column of the feature summary (`feat_info`) for a summary of types of measurement.\n",
    "- For numeric and interval data, these features can be kept without changes.\n",
    "- Most of the variables in the dataset are ordinal in nature. While ordinal values may technically be non-linear in spacing, make the simplifying assumption that the ordinal variables can be treated as being interval in nature (that is, kept without any changes).\n",
    "- Special handling may be necessary for the remaining two variable types: categorical, and 'mixed'.\n",
    "\n",
    "In the first two parts of this sub-step, you will perform an investigation of the categorical and mixed-type features and make a decision on each of them, whether you will keep, drop, or re-encode each. Then, in the last part, you will create a new data frame with only the selected and engineered columns.\n",
    "\n",
    "Data wrangling is often the trickiest part of the data analysis process, and there's a lot of it to be done here. But stick with it: once you're done with this step, you'll be ready to get to the machine learning parts of the project!"
   ]
  },
  {
   "cell_type": "code",
   "execution_count": 17,
   "metadata": {},
   "outputs": [
    {
     "name": "stdout",
     "output_type": "stream",
     "text": [
      "ordinal        49\n",
      "categorical    21\n",
      "mixed           7\n",
      "numeric         7\n",
      "interval        1\n",
      "Name: type, dtype: int64\n"
     ]
    }
   ],
   "source": [
    "# How many features are there of each data type?\n",
    "print(feat_info['type'].value_counts())"
   ]
  },
  {
   "cell_type": "markdown",
   "metadata": {},
   "source": [
    "#### Step 1.2.1: Re-Encode Categorical Features\n",
    "\n",
    "For categorical data, you would ordinarily need to encode the levels as dummy variables. Depending on the number of categories, perform one of the following:\n",
    "- For binary (two-level) categoricals that take numeric values, you can keep them without needing to do anything.\n",
    "- There is one binary variable that takes on non-numeric values. For this one, you need to re-encode the values as numbers or create a dummy variable.\n",
    "- For multi-level categoricals (three or more values), you can choose to encode the values using multiple dummy variables (e.g. via [OneHotEncoder](http://scikit-learn.org/stable/modules/generated/sklearn.preprocessing.OneHotEncoder.html)), or (to keep things straightforward) just drop them from the analysis. As always, document your choices in the Discussion section."
   ]
  },
  {
   "cell_type": "code",
   "execution_count": 18,
   "metadata": {},
   "outputs": [
    {
     "name": "stdout",
     "output_type": "stream",
     "text": [
      "number of features with only a few or without missing values : 81\n",
      "number of categorical features with only a few or without missing values : 18\n",
      "binary features:  {'ANREDE_KZ': 2, 'GREEN_AVANTGARDE': 2, 'SOHO_KZ': 2, 'VERS_TYP': 2, 'OST_WEST_KZ': 2}\n",
      "multi_feat:  {'CJT_GESAMTTYP': 6, 'FINANZTYP': 6, 'GFK_URLAUBERTYP': 12, 'LP_FAMILIE_FEIN': 11, 'LP_FAMILIE_GROB': 5, 'LP_STATUS_FEIN': 10, 'LP_STATUS_GROB': 5, 'NATIONALITAET_KZ': 3, 'SHOPPER_TYP': 4, 'ZABEOTYP': 6, 'GEBAEUDETYP': 7, 'CAMEO_DEUG_2015': 9, 'CAMEO_DEU_2015': 44}\n",
      "number of binary features:  5\n",
      "number of multi-level features:  13\n"
     ]
    }
   ],
   "source": [
    "# Assess categorical variables: which are binary, which are multi-level, and\n",
    "# which one needs to be re-encoded?\n",
    "# step 1: features with only a few or without missing values \n",
    "feat_selected = feat_info.copy()\n",
    "for feature in removed_features:\n",
    "    feat_selected.drop(feat_selected[feat_selected['attribute']==feature].index, inplace=True)\n",
    "print('number of features with only a few or without missing values :', feat_selected.shape[0])\n",
    "\n",
    "# step 2: categorical features with only a few or without missing values \n",
    "categorical_feat = feat_selected.drop(feat_selected[feat_selected['type']!='categorical'].index)['attribute'].tolist()\n",
    "print('number of categorical features with only a few or without missing values :', len(categorical_feat))\n",
    "\n",
    "# step 3: binary/multi-level features with only a few or without missing values\n",
    "binary_feat = {}\n",
    "multi_feat = {}\n",
    "for feature in categorical_feat:\n",
    "    if len(azdias_trans.loc[:,feature].value_counts()) > 2:\n",
    "        multi_feat[feature] = len(azdias_trans.loc[:,feature].value_counts())\n",
    "    else:\n",
    "        binary_feat[feature] = len(azdias_trans.loc[:,feature].value_counts())\n",
    "print('binary features: ', binary_feat)\n",
    "print('multi_feat: ', multi_feat)\n",
    "print('number of binary features: ', len(binary_feat.keys()))\n",
    "print('number of multi-level features: ', len(multi_feat.keys()))\n"
   ]
  },
  {
   "cell_type": "code",
   "execution_count": 19,
   "metadata": {},
   "outputs": [
    {
     "name": "stdout",
     "output_type": "stream",
     "text": [
      "shape of the dataframe before categorical feature encoding:  (891221, 81)\n",
      "shape of the dataframe after categorical feature encoding:  (891221, 219)\n"
     ]
    }
   ],
   "source": [
    "# Re-encode categorical variable(s) to be kept in the analysis.\n",
    "print('shape of the dataframe before categorical feature encoding: ', azdias_trans.shape)\n",
    "azdias_trans_dummy = pd.get_dummies(azdias_trans, dummy_na=True, columns=categorical_feat)\n",
    "print('shape of the dataframe after categorical feature encoding: ', azdias_trans_dummy.shape)"
   ]
  },
  {
   "cell_type": "markdown",
   "metadata": {},
   "source": [
    "#### Discussion 1.2.1: Re-Encode Categorical Features\n",
    "\n",
    "(Double-click this cell and replace this text with your own text, reporting your findings and decisions regarding categorical features. Which ones did you keep, which did you drop, and what engineering steps did you perform?)\n",
    "\n",
    "Answer:\n",
    "Four features are removed from the original dataset because they have more than 50% missing values. After removal, 18 categorical features are kept. Five of them are binary features, and 13 of them are multi-level features. I used 'one-hot encoding' to convert the categorical values to integer data.\n"
   ]
  },
  {
   "cell_type": "markdown",
   "metadata": {},
   "source": [
    "#### Step 1.2.2: Engineer Mixed-Type Features\n",
    "\n",
    "There are a handful of features that are marked as \"mixed\" in the feature summary that require special treatment in order to be included in the analysis. There are two in particular that deserve attention; the handling of the rest are up to your own choices:\n",
    "- \"PRAEGENDE_JUGENDJAHRE\" combines information on three dimensions: generation by decade, movement (mainstream vs. avantgarde), and nation (east vs. west). While there aren't enough levels to disentangle east from west, you should create two new variables to capture the other two dimensions: an interval-type variable for decade, and a binary variable for movement.\n",
    "- \"CAMEO_INTL_2015\" combines information on two axes: wealth and life stage. Break up the two-digit codes by their 'tens'-place and 'ones'-place digits into two new ordinal variables (which, for the purposes of this project, is equivalent to just treating them as their raw numeric values).\n",
    "- If you decide to keep or engineer new features around the other mixed-type features, make sure you note your steps in the Discussion section.\n",
    "\n",
    "Be sure to check `Data_Dictionary.md` for the details needed to finish these tasks."
   ]
  },
  {
   "cell_type": "code",
   "execution_count": 20,
   "metadata": {},
   "outputs": [
    {
     "name": "stdout",
     "output_type": "stream",
     "text": [
      "There are 6 mixed features, which are:\n",
      " ['LP_LEBENSPHASE_FEIN', 'LP_LEBENSPHASE_GROB', 'PRAEGENDE_JUGENDJAHRE', 'WOHNLAGE', 'CAMEO_INTL_2015', 'PLZ8_BAUMAX']\n"
     ]
    }
   ],
   "source": [
    "mixed_feat = feat_selected.drop(feat_selected[feat_selected['type']!='mixed'].index)['attribute'].tolist()\n",
    "print('There are ' + str(len(mixed_feat)) + ' mixed features, which are:\\n', mixed_feat)"
   ]
  },
  {
   "cell_type": "code",
   "execution_count": 21,
   "metadata": {},
   "outputs": [],
   "source": [
    "# common procedures for treatment of 'PRAEGENDE_JUGENDJAHRE' and 'CAMEO_INTL_2015'\n",
    "\n",
    "# step 1: load the data_dictionary file\n",
    "input_file = codecs.open(\"Data_Dictionary.md\", mode=\"r\")\n",
    "text = input_file.read()\n",
    "dd_html = markdown.markdown(text)\n",
    "\n",
    "# step 2: parse the parts of the mixed features\n",
    "soup = BeautifulSoup(dd_html)\n",
    "headings = soup.find_all(\"h3\")\n",
    "cat_dict = {}\n",
    "def parse_data_info(string):\n",
    "    cat_dict = {}\n",
    "    for h in headings:\n",
    "        if string in str(h):\n",
    "            parsed_string = str(h.next_sibling.next_sibling)\n",
    "            parsed_raw = parsed_string.split('\\n')\n",
    "            for raw in parsed_raw:\n",
    "                if raw[0] == '-':\n",
    "                    raw_element = raw.split(': ')\n",
    "                    raw_value = raw_element[1]\n",
    "                    if raw_value[-4:] == '</p>':\n",
    "                        raw_value = raw_value[:-4]\n",
    "                    try:\n",
    "                        cat_no = int(raw_element[0][-2:])\n",
    "                        if cat_no >= 1 and cat_no <= 100:\n",
    "                            cat_dict[cat_no] = raw_value\n",
    "                    except:\n",
    "                        continue\n",
    "    return cat_dict"
   ]
  },
  {
   "cell_type": "code",
   "execution_count": 22,
   "metadata": {},
   "outputs": [
    {
     "name": "stdout",
     "output_type": "stream",
     "text": [
      "encoding of generation information:  {1.0: 40, 2.0: 40, 3.0: 50, 4.0: 50, 5.0: 60, 6.0: 60, 7.0: 60, 8.0: 70, 9.0: 70, 10.0: 80, 11.0: 80, 12.0: 80, 13.0: 80, 14.0: 90, 15.0: 90}\n",
      "encoding of movement information:  {1.0: 1, 2.0: 0, 3.0: 1, 4.0: 0, 5.0: 1, 6.0: 0, 7.0: 0, 8.0: 1, 9.0: 0, 10.0: 1, 11.0: 0, 12.0: 1, 13.0: 0, 14.0: 1, 15.0: 0}\n",
      "generation column has been created: \n",
      " 0     NaN\n",
      "1    90.0\n",
      "2    90.0\n",
      "3    70.0\n",
      "4    70.0\n",
      "5    50.0\n",
      "Name: generation, dtype: float64\n",
      "movement column has been created: \n",
      " 0    NaN\n",
      "1    1.0\n",
      "2    0.0\n",
      "3    1.0\n",
      "4    1.0\n",
      "5    1.0\n",
      "Name: movement, dtype: float64\n",
      "the shape of dataframe after dealing with (PRAEGENDE_JUGENDJAHRE) (891221, 220)\n"
     ]
    }
   ],
   "source": [
    "# Investigate \"PRAEGENDE_JUGENDJAHRE\" and engineer two new variables.\n",
    "original_dict = parse_data_info('PRAEGENDE_JUGENDJAHRE')\n",
    "generation_dict = {}\n",
    "movement_dict = {}\n",
    "for k, v in original_dict.items():\n",
    "    year = int(v[:2])\n",
    "    bi_move = 0\n",
    "    k = float(k)\n",
    "    if 'Mainstream' in v:\n",
    "        bi_move = 1\n",
    "    generation_dict[k] = year\n",
    "    movement_dict[k] = bi_move\n",
    "\n",
    "print('encoding of generation information: ', generation_dict)\n",
    "print('encoding of movement information: ', movement_dict)\n",
    "\n",
    "azdias_trans_dummy_mix1 = azdias_trans_dummy.copy()\n",
    "generation = azdias_trans_dummy_mix1.loc[:,'PRAEGENDE_JUGENDJAHRE'].map(generation_dict, na_action=None)\n",
    "movement = azdias_trans_dummy_mix1.loc[:,'PRAEGENDE_JUGENDJAHRE'].map(movement_dict, na_action=None)\n",
    "gene_move = pd.DataFrame({'generation':generation, 'movement':movement}, columns=['generation', 'movement'])\n",
    "azdias_trans_dummy_mix1 = pd.concat([azdias_trans_dummy_mix1, gene_move], axis=1)\n",
    "print('generation column has been created: \\n', azdias_trans_dummy_mix1.loc[:5, 'generation'])\n",
    "print('movement column has been created: \\n', azdias_trans_dummy_mix1.loc[:5, 'movement'])\n",
    "\n",
    "azdias_trans_dummy_mix1.drop(['PRAEGENDE_JUGENDJAHRE'], axis=1, inplace=True)\n",
    "print('the shape of dataframe after dealing with (PRAEGENDE_JUGENDJAHRE)', azdias_trans_dummy_mix1.shape)"
   ]
  },
  {
   "cell_type": "code",
   "execution_count": 23,
   "metadata": {},
   "outputs": [
    {
     "name": "stdout",
     "output_type": "stream",
     "text": [
      "encoding of wealth information:  {'11': 1, '12': 1, '13': 1, '14': 1, '15': 1, '21': 2, '22': 2, '23': 2, '24': 2, '25': 2, '31': 3, '32': 3, '33': 3, '34': 3, '35': 3, '41': 4, '42': 4, '43': 4, '44': 4, '45': 4, '51': 5, '52': 5, '53': 5, '54': 5, '55': 5}\n",
      "encoding of life_stage information:  {'11': 1, '12': 2, '13': 3, '14': 4, '15': 5, '21': 1, '22': 2, '23': 3, '24': 4, '25': 5, '31': 1, '32': 2, '33': 3, '34': 4, '35': 5, '41': 1, '42': 2, '43': 3, '44': 4, '45': 5, '51': 1, '52': 2, '53': 3, '54': 4, '55': 5}\n",
      "wealth column has been created: \n",
      " 0    NaN\n",
      "1    5.0\n",
      "2    2.0\n",
      "3    1.0\n",
      "4    4.0\n",
      "5    5.0\n",
      "Name: wealth, dtype: float64\n",
      "life-stage column has been created: \n",
      " 0    NaN\n",
      "1    1.0\n",
      "2    4.0\n",
      "3    2.0\n",
      "4    3.0\n",
      "5    4.0\n",
      "Name: life_stage, dtype: float64\n",
      "the shape of dataframe after dealing with (CAMEO_INTL_2015) (891221, 221)\n"
     ]
    }
   ],
   "source": [
    "# Investigate \"CAMEO_INTL_2015\" and engineer two new variables.\n",
    "original_dict = parse_data_info('CAMEO_INTL_2015')\n",
    "wealth_dict = {}\n",
    "life_stage_dict = {}\n",
    "for k,_ in original_dict.items():\n",
    "    wealth_dict[str(k)] = k //10\n",
    "    life_stage_dict[str(k)] = k % 10\n",
    "print('encoding of wealth information: ', wealth_dict)\n",
    "print('encoding of life_stage information: ', life_stage_dict)\n",
    "\n",
    "azdias_trans_dummy_mix1_mix2 = azdias_trans_dummy_mix1.copy()\n",
    "wealth = azdias_trans_dummy_mix1_mix2.loc[:,'CAMEO_INTL_2015'].map(wealth_dict, na_action=None)\n",
    "life_stage = azdias_trans_dummy_mix1_mix2.loc[:,'CAMEO_INTL_2015'].map(life_stage_dict, na_action=None)\n",
    "wealth_lifestage = pd.DataFrame({'wealth':wealth, 'life_stage':life_stage}, columns=['wealth', 'life_stage'])\n",
    "azdias_trans_dummy_mix1_mix2 = pd.concat([azdias_trans_dummy_mix1_mix2, wealth_lifestage], axis=1)\n",
    "print('wealth column has been created: \\n', azdias_trans_dummy_mix1_mix2.loc[:5, 'wealth'])\n",
    "print('life-stage column has been created: \\n', azdias_trans_dummy_mix1_mix2.loc[:5, 'life_stage'])\n",
    "\n",
    "azdias_trans_dummy_mix1_mix2.drop(['CAMEO_INTL_2015'], axis=1, inplace=True)\n",
    "print('the shape of dataframe after dealing with (CAMEO_INTL_2015)', azdias_trans_dummy_mix1_mix2.shape)"
   ]
  },
  {
   "cell_type": "markdown",
   "metadata": {},
   "source": [
    "#### Discussion 1.2.2: Engineer Mixed-Type Features\n",
    "\n",
    "(Double-click this cell and replace this text with your own text, reporting your findings and decisions regarding mixed-value features. Which ones did you keep, which did you drop, and what engineering steps did you perform?)\n",
    "\n",
    "Answer:\n",
    "<br>\n",
    "I found 6 mixed features from the 81 features. Two of them were treated in this part. The other four were kept as the ordinal values, and then used by the model directly without any changes.\n",
    "\n",
    "As for engineering of 'PRAEGENDE_JUGENDJAHRE', what I have done are showns as follows:\n",
    "<br>\n",
    "1) parsed the 'Data_Dictionary.md' file and extracted the information related to the feature 'PRAEGENDE_JUGENDJAHRE';\n",
    "<br>\n",
    "2) encoded the generation-related information and movement-related information;\n",
    "<br>\n",
    "3) saved the generation-related information and movement-related information into two dictionaries, respectively;\n",
    "<br>\n",
    "4) created a column ('generation') based on the generation-related information and appended it to the full dataset;\n",
    "<br>\n",
    "5) created a column ('movement') based on the movement-related information and appended it to the full dataset;\n",
    "<br>\n",
    "6) removed the corresponding mixed feature ('PRAEGENDE_JUGENDJAHRE') from the full dataset.\n",
    "<br>\n",
    "\n",
    "As for engineering of 'CAMEO_INTL_2015', what I have done are showns as follows:\n",
    "<br>\n",
    "1) parsed the 'Data_Dictionary.md' file and extracted the information related to the feature 'CAMEO_INTL_2015';\n",
    "<br>\n",
    "2) encoded the wealth-related information and movement-related information;\n",
    "<br>\n",
    "3) saved the lifestage-related information and movement-related information into two dictionaries, respectively;\n",
    "<br>\n",
    "4) created a column ('wealth') based on the wealth-related information and appended it to the full dataset;\n",
    "<br>\n",
    "5) created a column ('life_stage') based on the lifestage-related information and appended it to the full dataset;\n",
    "<br>\n",
    "6) removed the corresponding mixed feature ('CAMEO_INTL_2015') from the full dataset.\n",
    "<br>"
   ]
  },
  {
   "cell_type": "markdown",
   "metadata": {},
   "source": [
    "#### Step 1.2.3: Complete Feature Selection\n",
    "\n",
    "In order to finish this step up, you need to make sure that your data frame now only has the columns that you want to keep. To summarize, the dataframe should consist of the following:\n",
    "- All numeric, interval, and ordinal type columns from the original dataset.\n",
    "- Binary categorical features (all numerically-encoded).\n",
    "- Engineered features from other multi-level categorical features and mixed features.\n",
    "\n",
    "Make sure that for any new columns that you have engineered, that you've excluded the original columns from the final dataset. Otherwise, their values will interfere with the analysis later on the project. For example, you should not keep \"PRAEGENDE_JUGENDJAHRE\", since its values won't be useful for the algorithm: only the values derived from it in the engineered features you created should be retained. As a reminder, your data should only be from **the subset with few or no missing values**."
   ]
  },
  {
   "cell_type": "code",
   "execution_count": 24,
   "metadata": {},
   "outputs": [],
   "source": [
    "# If there are other re-engineering tasks you need to perform, make sure you\n",
    "# take care of them here. (Dealing with missing data will come in step 2.1.)\n",
    "\n"
   ]
  },
  {
   "cell_type": "code",
   "execution_count": 25,
   "metadata": {},
   "outputs": [],
   "source": [
    "# Do whatever you need to in order to ensure that the dataframe only contains\n",
    "# the columns that should be passed to the algorithm functions.\n",
    "\n"
   ]
  },
  {
   "cell_type": "markdown",
   "metadata": {},
   "source": [
    "### Step 1.3: Create a Cleaning Function\n",
    "\n",
    "Even though you've finished cleaning up the general population demographics data, it's important to look ahead to the future and realize that you'll need to perform the same cleaning steps on the customer demographics data. In this substep, complete the function below to execute the main feature selection, encoding, and re-engineering steps you performed above. Then, when it comes to looking at the customer data in Step 3, you can just run this function on that DataFrame to get the trimmed dataset in a single step."
   ]
  },
  {
   "cell_type": "code",
   "execution_count": 26,
   "metadata": {},
   "outputs": [],
   "source": [
    "# other functions\n",
    "azdias = pd.read_csv(\"Udacity_AZDIAS_Subset.csv\", sep=';')\n",
    "\n",
    "def parse_data_info(string, data_dict):\n",
    "    input_file = codecs.open(data_dict, mode=\"r\")\n",
    "    text = input_file.read()\n",
    "    dd_html = markdown.markdown(text)\n",
    "    soup = BeautifulSoup(dd_html)\n",
    "    headings = soup.find_all(\"h3\")\n",
    "    cat_dict = {}\n",
    "    for h in headings:\n",
    "        if string in str(h):\n",
    "            parsed_string = str(h.next_sibling.next_sibling)\n",
    "            parsed_raw = parsed_string.split('\\n')\n",
    "            for raw in parsed_raw:\n",
    "                if raw[0] == '-':\n",
    "                    raw_element = raw.split(': ')\n",
    "                    raw_value = raw_element[1]\n",
    "                    if raw_value[-4:] == '</p>':\n",
    "                        raw_value = raw_value[:-4]\n",
    "                    try:\n",
    "                        cat_no = int(raw_element[0][-2:])\n",
    "                        if cat_no >= 1 and cat_no <= 100:\n",
    "                            cat_dict[cat_no] = raw_value\n",
    "                    except:\n",
    "                        continue\n",
    "    return cat_dict\n"
   ]
  },
  {
   "cell_type": "code",
   "execution_count": 27,
   "metadata": {},
   "outputs": [],
   "source": [
    "def clean_data(df):\n",
    "    \"\"\"\n",
    "    Perform feature trimming, re-encoding, and engineering for demographics\n",
    "    data\n",
    "    \n",
    "    INPUT: Demographics DataFrame\n",
    "    OUTPUT: Trimmed and cleaned demographics DataFrame\n",
    "    \"\"\"\n",
    "    \n",
    "    # Put in code here to execute all main cleaning steps:\n",
    "    # convert missing value codes into NaNs, ...\n",
    "    feat_info = pd.read_csv(\"AZDIAS_Feature_Summary.csv\", sep=';')\n",
    "    feat_num = df.shape[1]\n",
    "    df_trans = df.copy()\n",
    "    miss_values = {}\n",
    "    for i in range(feat_num):\n",
    "        if feat_info['missing_or_unknown'][i] != '[]':\n",
    "            miss_value_strings = feat_info['missing_or_unknown'][i][1:-1].split(',')\n",
    "            miss_value_set = set()\n",
    "            for string in miss_value_strings:\n",
    "                try:\n",
    "                    miss_value_set.add(int(string))\n",
    "                except:\n",
    "                    miss_value_set.add(string)\n",
    "            df_trans.iloc[:,i] = df_trans.iloc[:,i].apply(lambda x: np.nan if x in miss_value_set else x)\n",
    "        miss_values[i] = (df_trans.iloc[:,i].isna().sum() / len(df_trans.iloc[:,i]), \\\n",
    "                          df_trans.iloc[:,i].isna().sum(), \\\n",
    "                          len(df_trans.iloc[:,i]), \\\n",
    "                          df_trans.columns[i])\n",
    "    print('dataframe shape after nan transformation: ', df_trans.shape)\n",
    "    \n",
    "    # remove selected columns, ...\n",
    "    removed_features = ['AGER_TYP', 'TITEL_KZ', 'KK_KUNDENTYP', 'KBA05_BAUMAX']\n",
    "    df_trans_dropc = df_trans.copy()\n",
    "    for removed_feature in removed_features:\n",
    "        df_trans_dropc = df_trans_dropc.drop(removed_feature, axis=1)\n",
    "    print('dataframe shape after dropping columns: ', df_trans_dropc.shape)\n",
    "    print('removed features: ', removed_features)\n",
    "    \n",
    "    # remove selected rows, ...\n",
    "    df_trans_dropc_dropr = df_trans_dropc.copy()\n",
    "    dropr_threshold = 0.5\n",
    "    df_trans_dropc_dropr = df_trans_dropc.dropna(axis=0, thresh=int(df_trans_dropc.shape[1]*dropr_threshold), inplace=False)\n",
    "    print('dataframe shape after dropping raws: ', df_trans_dropc_dropr.shape)\n",
    "    \n",
    "    # select, re-encode, and engineer column values for categorical features\n",
    "    df_trans_dropc_dropr_cat = df_trans_dropc_dropr.copy()\n",
    "    feat_selected = feat_info.copy()\n",
    "    for feature in removed_features:\n",
    "        feat_selected.drop(feat_selected[feat_selected['attribute']==feature].index, inplace=True)\n",
    "    categorical_feat = feat_selected.drop(feat_selected[feat_selected['type']!='categorical'].index)['attribute'].tolist()\n",
    "    df_trans_dropc_dropr_cat = pd.get_dummies(df_trans_dropc_dropr_cat, dummy_na=True, columns=categorical_feat)\n",
    "    print('dataframe shape after transforming categorical features: ', df_trans_dropc_dropr_cat.shape)\n",
    "    \n",
    "    # select, re-encode, and engineer column values for mixed-type features ('PRAEGENDE_JUGENDJAHRE')\n",
    "    df_trans_dropc_dropr_cat_mix1 = df_trans_dropc_dropr_cat.copy()\n",
    "    original_dict = parse_data_info('PRAEGENDE_JUGENDJAHRE', \"Data_Dictionary.md\")\n",
    "    generation_dict = {}\n",
    "    movement_dict = {}\n",
    "    for k, v in original_dict.items():\n",
    "        year = int(v[:2])\n",
    "        bi_move = 0\n",
    "        k = float(k)\n",
    "        if 'Mainstream' in v:\n",
    "            bi_move = 1\n",
    "        generation_dict[k] = year\n",
    "        movement_dict[k] = bi_move\n",
    "    generation = df_trans_dropc_dropr_cat_mix1.loc[:,'PRAEGENDE_JUGENDJAHRE'].map(generation_dict, na_action=None)\n",
    "    movement = df_trans_dropc_dropr_cat_mix1.loc[:,'PRAEGENDE_JUGENDJAHRE'].map(movement_dict, na_action=None)\n",
    "    gene_move = pd.DataFrame({'generation':generation, 'movement':movement}, columns=['generation', 'movement'])\n",
    "    df_trans_dropc_dropr_cat_mix1 = pd.concat([df_trans_dropc_dropr_cat_mix1, gene_move], axis=1)\n",
    "    df_trans_dropc_dropr_cat_mix1.drop(['PRAEGENDE_JUGENDJAHRE'], axis=1, inplace=True)\n",
    "    print('dataframe shape after dealing with feature (PRAEGENDE_JUGENDJAHRE): ', df_trans_dropc_dropr_cat_mix1.shape)\n",
    "    \n",
    "    # select, re-encode, and engineer column values for mixed-type features ('CAMEO_INTL_2015')\n",
    "    df_trans_dropc_dropr_cat_mix1_mix2 = df_trans_dropc_dropr_cat_mix1.copy()\n",
    "    origin_dict = parse_data_info('CAMEO_INTL_2015', \"Data_Dictionary.md\")\n",
    "    wealth_dict = {}\n",
    "    lift_stage_dict = {}\n",
    "    for k,_ in origin_dict.items():\n",
    "        wealth_dict[str(k)] = k //10\n",
    "        lift_stage_dict[str(k)] = k % 10\n",
    "    wealth = df_trans_dropc_dropr_cat_mix1_mix2.loc[:,'CAMEO_INTL_2015'].map(wealth_dict, na_action=None)\n",
    "    life_stage = df_trans_dropc_dropr_cat_mix1_mix2.loc[:,'CAMEO_INTL_2015'].map(lift_stage_dict, na_action=None)\n",
    "    wealth_lifestage = pd.DataFrame({'wealth':wealth, 'life_stage':life_stage}, columns=['wealth', 'life_stage'])\n",
    "    df_trans_dropc_dropr_cat_mix1_mix2 = pd.concat([df_trans_dropc_dropr_cat_mix1_mix2, wealth_lifestage], axis=1)\n",
    "    df_trans_dropc_dropr_cat_mix1_mix2.drop(['CAMEO_INTL_2015'], axis=1, inplace=True)\n",
    "    print('dataframe shape after dealing with feature (CAMEO_INTL_2015): ', df_trans_dropc_dropr_cat_mix1_mix2.shape)\n",
    "    \n",
    "    # Return the cleaned dataframe.\n",
    "    return df_trans_dropc_dropr_cat_mix1_mix2"
   ]
  },
  {
   "cell_type": "code",
   "execution_count": 28,
   "metadata": {},
   "outputs": [
    {
     "name": "stdout",
     "output_type": "stream",
     "text": [
      "dataframe shape after nan transformation:  (891221, 85)\n",
      "dataframe shape after dropping columns:  (891221, 81)\n",
      "removed features:  ['AGER_TYP', 'TITEL_KZ', 'KK_KUNDENTYP', 'KBA05_BAUMAX']\n",
      "dataframe shape after dropping raws:  (817178, 81)\n",
      "dataframe shape after transforming categorical features:  (817178, 219)\n",
      "dataframe shape after dealing with feature (PRAEGENDE_JUGENDJAHRE):  (817178, 220)\n",
      "dataframe shape after dealing with feature (CAMEO_INTL_2015):  (817178, 221)\n"
     ]
    }
   ],
   "source": [
    "cleaned_data = clean_data(azdias)"
   ]
  },
  {
   "cell_type": "markdown",
   "metadata": {},
   "source": [
    "## Step 2: Feature Transformation\n",
    "\n",
    "### Step 2.1: Apply Feature Scaling\n",
    "\n",
    "Before we apply dimensionality reduction techniques to the data, we need to perform feature scaling so that the principal component vectors are not influenced by the natural differences in scale for features. Starting from this part of the project, you'll want to keep an eye on the [API reference page for sklearn](http://scikit-learn.org/stable/modules/classes.html) to help you navigate to all of the classes and functions that you'll need. In this substep, you'll need to check the following:\n",
    "\n",
    "- sklearn requires that data not have missing values in order for its estimators to work properly. So, before applying the scaler to your data, make sure that you've cleaned the DataFrame of the remaining missing values. This can be as simple as just removing all data points with missing data, or applying an [Imputer](http://scikit-learn.org/stable/modules/generated/sklearn.preprocessing.Imputer.html) to replace all missing values. You might also try a more complicated procedure where you temporarily remove missing values in order to compute the scaling parameters before re-introducing those missing values and applying imputation. Think about how much missing data you have and what possible effects each approach might have on your analysis, and justify your decision in the discussion section below.\n",
    "- For the actual scaling function, a [StandardScaler](http://scikit-learn.org/stable/modules/generated/sklearn.preprocessing.StandardScaler.html) instance is suggested, scaling each feature to mean 0 and standard deviation 1.\n",
    "- For these classes, you can make use of the `.fit_transform()` method to both fit a procedure to the data as well as apply the transformation to the data at the same time. Don't forget to keep the fit sklearn objects handy, since you'll be applying them to the customer demographics data towards the end of the project."
   ]
  },
  {
   "cell_type": "code",
   "execution_count": 29,
   "metadata": {},
   "outputs": [
    {
     "name": "stdout",
     "output_type": "stream",
     "text": [
      "number of NANs in dataframe before imputation 2002214\n",
      "number of NANs in dataframe after imputation 0\n",
      "(817178, 221)\n"
     ]
    }
   ],
   "source": [
    "# If you've not yet cleaned the dataset of all NaN values, then investigate and\n",
    "# do that now.\n",
    "nan_before_impute = cleaned_data.isnull().sum().sum()\n",
    "print('number of NANs in dataframe before imputation', nan_before_impute)\n",
    "\n",
    "imputer = SimpleImputer(strategy=\"median\")\n",
    "cleaned_data_impute = imputer.fit_transform(cleaned_data)\n",
    "\n",
    "temp_df = pd.DataFrame(cleaned_data_impute)\n",
    "print('number of NANs in dataframe after imputation', temp_df.isnull().sum().sum())\n",
    "\n",
    "\n",
    "print(temp_df.shape)"
   ]
  },
  {
   "cell_type": "code",
   "execution_count": 30,
   "metadata": {},
   "outputs": [
    {
     "name": "stdout",
     "output_type": "stream",
     "text": [
      "        0         1         2         3         4         5         6    \\\n",
      "0 -1.765075 -1.509482  1.540802 -1.045477  1.455948  0.940531  1.357376   \n",
      "1  0.201378 -1.509482  0.866777 -1.772819 -0.580676  0.227068  1.357376   \n",
      "2  1.184604  0.665956 -0.481275  1.136547 -0.580676 -1.199857 -0.766065   \n",
      "3  0.201378  0.665956  0.192751  0.409205 -1.259551  0.227068 -0.766065   \n",
      "4 -1.765075 -0.059190 -1.155301  1.136547 -0.580676 -0.486394  1.357376   \n",
      "\n",
      "        7         8         9      ...         211      212     213       214  \\\n",
      "0  2.052306  1.107776  0.414659    ...    -0.16058 -0.18723 -0.1776 -0.190417   \n",
      "1  0.830184  1.107776 -1.103303    ...    -0.16058 -0.18723 -0.1776 -0.190417   \n",
      "2 -0.751387 -0.245659 -0.259991    ...    -0.16058 -0.18723 -0.1776 -0.190417   \n",
      "3 -0.320049  1.107776  1.342302    ...    -0.16058 -0.18723 -0.1776 -0.190417   \n",
      "4 -1.757841  1.107776 -0.681647    ...    -0.16058 -0.18723 -0.1776 -0.190417   \n",
      "\n",
      "        215       216       217       218       219       220  \n",
      "0 -0.088699 -0.178777  1.175632  0.522452  1.185005 -1.284043  \n",
      "1 -0.088699 -0.178777  1.175632 -1.914051 -0.887831  0.768275  \n",
      "2 -0.088699 -0.178777 -0.222987  0.522452 -1.578776 -0.599937  \n",
      "3 -0.088699 -0.178777 -0.222987  0.522452  0.494059  0.084169  \n",
      "4 -0.088699 -0.178777 -1.621605  0.522452  1.185005  0.768275  \n",
      "\n",
      "[5 rows x 221 columns]\n"
     ]
    }
   ],
   "source": [
    "# Apply feature scaling to the general population demographics data.\n",
    "standardizer = StandardScaler()\n",
    "cleaned_imputed_standardized_data = standardizer.fit_transform(cleaned_data_impute)\n",
    "print(pd.DataFrame(cleaned_imputed_standardized_data).head())"
   ]
  },
  {
   "cell_type": "markdown",
   "metadata": {},
   "source": [
    "### Discussion 2.1: Apply Feature Scaling\n",
    "\n",
    "(Double-click this cell and replace this text with your own text, reporting your decisions regarding feature scaling.)\n",
    "\n",
    "Answer:\n",
    "<br>\n",
    "I used the standardization method to scale the features. Even though standardization and normalization are similar in terms of functions, I personally prefer standardization since it can be useful when extreme outliers exist in the dataset. For example, if we have values (0, 1, 2, 1E100), we will get something around (0.0, 0.0, 0.0, 1.0) using normalization, which is probably not what we want. "
   ]
  },
  {
   "cell_type": "markdown",
   "metadata": {},
   "source": [
    "### Step 2.2: Perform Dimensionality Reduction\n",
    "\n",
    "On your scaled data, you are now ready to apply dimensionality reduction techniques.\n",
    "\n",
    "- Use sklearn's [PCA](http://scikit-learn.org/stable/modules/generated/sklearn.decomposition.PCA.html) class to apply principal component analysis on the data, thus finding the vectors of maximal variance in the data. To start, you should not set any parameters (so all components are computed) or set a number of components that is at least half the number of features (so there's enough features to see the general trend in variability).\n",
    "- Check out the ratio of variance explained by each principal component as well as the cumulative variance explained. Try plotting the cumulative or sequential values using matplotlib's [`plot()`](https://matplotlib.org/api/_as_gen/matplotlib.pyplot.plot.html) function. Based on what you find, select a value for the number of transformed features you'll retain for the clustering part of the project.\n",
    "- Once you've made a choice for the number of components to keep, make sure you re-fit a PCA instance to perform the decided-on transformation."
   ]
  },
  {
   "cell_type": "code",
   "execution_count": 31,
   "metadata": {},
   "outputs": [],
   "source": [
    "# Apply PCA to the data.\n",
    "modelPCA = PCA()\n",
    "principle_componenets = modelPCA.fit_transform(cleaned_imputed_standardized_data)\n"
   ]
  },
  {
   "cell_type": "code",
   "execution_count": 32,
   "metadata": {},
   "outputs": [
    {
     "name": "stdout",
     "output_type": "stream",
     "text": [
      "the determined number of components 86\n"
     ]
    },
    {
     "data": {
      "text/plain": [
       "[<matplotlib.lines.Line2D at 0x18afbd019b0>]"
      ]
     },
     "execution_count": 32,
     "metadata": {},
     "output_type": "execute_result"
    },
    {
     "data": {
      "image/png": "[encoded data removed]",
      "text/plain": [
       "<Figure size 432x288 with 1 Axes>"
      ]
     },
     "metadata": {},
     "output_type": "display_data"
    }
   ],
   "source": [
    "# Investigate the variance accounted for by each principal component.\n",
    "variance_ratios = modelPCA.explained_variance_ratio_\n",
    "cumulative_variance_ratios = []\n",
    "for i in range(len(variance_ratios)):\n",
    "    cumulative_variance_ratios.append(sum(variance_ratios[:i+1]))\n",
    "n_components = 0\n",
    "variance_threshold = 0.8\n",
    "while cumulative_variance_ratios[n_components] < variance_threshold:\n",
    "    n_components += 1\n",
    "n_components += 1\n",
    "\n",
    "print('the determined number of components', n_components)\n",
    "plt.plot(cumulative_variance_ratios)"
   ]
  },
  {
   "cell_type": "code",
   "execution_count": 33,
   "metadata": {},
   "outputs": [],
   "source": [
    "# Re-apply PCA to the data while selecting for number of components to retain.\n",
    "decided_modelPCA = PCA(n_components=n_components)\n",
    "decided_pcs = decided_modelPCA.fit_transform(cleaned_imputed_standardized_data)\n"
   ]
  },
  {
   "cell_type": "markdown",
   "metadata": {},
   "source": [
    "### Discussion 2.2: Perform Dimensionality Reduction\n",
    "\n",
    "(Double-click this cell and replace this text with your own text, reporting your findings and decisions regarding dimensionality reduction. How many principal components / transformed features are you retaining for the next step of the analysis?)\n",
    "\n",
    "Answer:\n",
    "<br>\n",
    "After running a PCA with all possible principle components, i.e. the number of principle components and data features are the same, I found 86 principle components were required to remain over 80% variance. Thus, 86 principle components will be used for the later analyses."
   ]
  },
  {
   "cell_type": "markdown",
   "metadata": {},
   "source": [
    "### Step 2.3: Interpret Principal Components\n",
    "\n",
    "Now that we have our transformed principal components, it's a nice idea to check out the weight of each variable on the first few components to see if they can be interpreted in some fashion.\n",
    "\n",
    "As a reminder, each principal component is a unit vector that points in the direction of highest variance (after accounting for the variance captured by earlier principal components). The further a weight is from zero, the more the principal component is in the direction of the corresponding feature. If two features have large weights of the same sign (both positive or both negative), then increases in one tend expect to be associated with increases in the other. To contrast, features with different signs can be expected to show a negative correlation: increases in one variable should result in a decrease in the other.\n",
    "\n",
    "- To investigate the features, you should map each weight to their corresponding feature name, then sort the features according to weight. The most interesting features for each principal component, then, will be those at the beginning and end of the sorted list. Use the data dictionary document to help you understand these most prominent features, their relationships, and what a positive or negative value on the principal component might indicate.\n",
    "- You should investigate and interpret feature associations from the first three principal components in this substep. To help facilitate this, you should write a function that you can call at any time to print the sorted list of feature weights, for the *i*-th principal component. This might come in handy in the next step of the project, when you interpret the tendencies of the discovered clusters."
   ]
  },
  {
   "cell_type": "code",
   "execution_count": 34,
   "metadata": {},
   "outputs": [],
   "source": [
    "# mapping function\n",
    "def feat_weight(pca_obj, component_index, topk = 5):\n",
    "    components = pd.DataFrame(np.round(pca_obj.components_, 4), columns = cleaned_data.columns)\n",
    "    component = components.iloc[component_index, :]\n",
    "    sorted_component = component.sort_values()\n",
    "    top_features = {}\n",
    "    for i in range(topk):\n",
    "        top_features[sorted_component.index[i]] = sorted_component[i]\n",
    "        top_features[sorted_component.index[-i-1]] = sorted_component[-i-1]\n",
    "    return top_features"
   ]
  },
  {
   "cell_type": "code",
   "execution_count": 35,
   "metadata": {},
   "outputs": [
    {
     "name": "stdout",
     "output_type": "stream",
     "text": [
      "{'MOBI_REGIO': -0.196, 'LP_STATUS_GROB_1.0': 0.187, 'FINANZ_MINIMALIST': -0.1811, 'HH_EINKOMMEN_SCORE': 0.1796, 'KBA05_ANTG1': -0.1806, 'wealth': 0.1766, 'PLZ8_ANTG1': -0.1754, 'PLZ8_ANTG3': 0.1734, 'KBA05_GBZ': -0.1726, 'PLZ8_ANTG4': 0.1687}\n"
     ]
    }
   ],
   "source": [
    "# Map weights for the first principal component to corresponding feature names\n",
    "# and then print the linked values, sorted by weight.\n",
    "# HINT: Try defining a function here or in a new cell that you can reuse in the\n",
    "# other cells.\n",
    "\n",
    "top_features_0 = feat_weight(decided_modelPCA, 0)\n",
    "print(top_features_0)\n"
   ]
  },
  {
   "cell_type": "code",
   "execution_count": 36,
   "metadata": {},
   "outputs": [
    {
     "name": "stdout",
     "output_type": "stream",
     "text": [
      "{'generation': -0.2355, 'ALTERSKATEGORIE_GROB': 0.2219, 'FINANZ_SPARER': -0.2234, 'FINANZ_VORSORGER': 0.2136, 'FINANZ_UNAUFFAELLIGER': -0.209, 'ZABEOTYP_3.0': 0.1906, 'SEMIO_REL': -0.2027, 'SEMIO_ERL': 0.1688, 'FINANZ_ANLEGER': -0.199, 'SEMIO_LUST': 0.1547}\n"
     ]
    }
   ],
   "source": [
    "# Map weights for the second principal component to corresponding feature names\n",
    "# and then print the linked values, sorted by weight.\n",
    "\n",
    "top_features_1 = feat_weight(decided_modelPCA, 1)\n",
    "print(top_features_1)\n"
   ]
  },
  {
   "cell_type": "code",
   "execution_count": 37,
   "metadata": {},
   "outputs": [
    {
     "name": "stdout",
     "output_type": "stream",
     "text": [
      "{'ANREDE_KZ_2.0': -0.3282, 'ANREDE_KZ_1.0': 0.3282, 'SEMIO_KAEM': -0.2972, 'SEMIO_VERT': 0.3004, 'SEMIO_DOM': -0.2639, 'SEMIO_FAM': 0.2451, 'SEMIO_KRIT': -0.2507, 'SEMIO_SOZ': 0.241, 'SEMIO_ERL': -0.2009, 'SEMIO_KULT': 0.2408}\n"
     ]
    }
   ],
   "source": [
    "# Map weights for the third principal component to corresponding feature names\n",
    "# and then print the linked values, sorted by weight.\n",
    "\n",
    "top_features_2 = feat_weight(decided_modelPCA, 2)\n",
    "print(top_features_2)"
   ]
  },
  {
   "cell_type": "markdown",
   "metadata": {},
   "source": [
    "### Discussion 2.3: Interpret Principal Components\n",
    "\n",
    "(Double-click this cell and replace this text with your own text, reporting your observations from detailed investigation of the first few principal components generated. Can we interpret positive and negative values from them in a meaningful way?)\n",
    "\n",
    "Answer:\n",
    "<br>\n",
    "The positive and negative values are weights of features in the original data space. They quantify the relationship between those features and the corresponding principle components. If weight of a feature has large absolute value/is far from zero, the change of this feature in the original data space would result in a relatively large change on the corresponding principle component in the principle component space. A positive weight would result in the two changes would be in the same direction, while a negative weight would result in the opposite changes."
   ]
  },
  {
   "cell_type": "markdown",
   "metadata": {},
   "source": [
    "## Step 3: Clustering\n",
    "\n",
    "### Step 3.1: Apply Clustering to General Population\n",
    "\n",
    "You've assessed and cleaned the demographics data, then scaled and transformed them. Now, it's time to see how the data clusters in the principal components space. In this substep, you will apply k-means clustering to the dataset and use the average within-cluster distances from each point to their assigned cluster's centroid to decide on a number of clusters to keep.\n",
    "\n",
    "- Use sklearn's [KMeans](http://scikit-learn.org/stable/modules/generated/sklearn.cluster.KMeans.html#sklearn.cluster.KMeans) class to perform k-means clustering on the PCA-transformed data.\n",
    "- Then, compute the average difference from each point to its assigned cluster's center. **Hint**: The KMeans object's `.score()` method might be useful here, but note that in sklearn, scores tend to be defined so that larger is better. Try applying it to a small, toy dataset, or use an internet search to help your understanding.\n",
    "- Perform the above two steps for a number of different cluster counts. You can then see how the average distance decreases with an increasing number of clusters. However, each additional cluster provides a smaller net benefit. Use this fact to select a final number of clusters in which to group the data. **Warning**: because of the large size of the dataset, it can take a long time for the algorithm to resolve. The more clusters to fit, the longer the algorithm will take. You should test for cluster counts through at least 10 clusters to get the full picture, but you shouldn't need to test for a number of clusters above about 30.\n",
    "- Once you've selected a final number of clusters to use, re-fit a KMeans instance to perform the clustering operation. Make sure that you also obtain the cluster assignments for the general demographics data, since you'll be using them in the final Step 3.3."
   ]
  },
  {
   "cell_type": "code",
   "execution_count": 62,
   "metadata": {},
   "outputs": [
    {
     "name": "stdout",
     "output_type": "stream",
     "text": [
      "10\n",
      "11\n",
      "12\n",
      "13\n",
      "14\n",
      "15\n",
      "16\n",
      "17\n",
      "18\n",
      "19\n",
      "20\n",
      "21\n",
      "22\n",
      "23\n",
      "24\n",
      "25\n",
      "26\n",
      "27\n",
      "28\n",
      "29\n"
     ]
    }
   ],
   "source": [
    "# Over a number of different cluster counts...\n",
    "\n",
    "\n",
    "    # run k-means clustering on the data and...\n",
    "    \n",
    "    \n",
    "    # compute the average within-cluster distances.\n",
    "\n",
    "scores = []\n",
    "for count in range(10, 30):\n",
    "    kmeans = KMeans(n_clusters=count)\n",
    "    model = kmeans.fit(decided_pcs)\n",
    "    score = np.abs(model.score(decided_pcs))\n",
    "    scores.append(score)\n",
    "    print(count)\n",
    "    "
   ]
  },
  {
   "cell_type": "code",
   "execution_count": 63,
   "metadata": {},
   "outputs": [
    {
     "data": {
      "text/plain": [
       "Text(0.5, 1.0, 'SSE vs. K')"
      ]
     },
     "execution_count": 63,
     "metadata": {},
     "output_type": "execute_result"
    },
    {
     "data": {
      "image/png": "[encoded data removed]",
      "text/plain": [
       "<Figure size 432x288 with 1 Axes>"
      ]
     },
     "metadata": {},
     "output_type": "display_data"
    }
   ],
   "source": [
    "# Investigate the change in within-cluster distance across number of clusters.\n",
    "# HINT: Use matplotlib's plot function to visualize this relationship.\n",
    "clusters = range(10, 30)\n",
    "plt.plot(clusters, scores, linestyle='--', marker='o', color='b')\n",
    "plt.xlabel('K')\n",
    "plt.ylabel('SSE')\n",
    "plt.title('SSE vs. K')\n"
   ]
  },
  {
   "cell_type": "code",
   "execution_count": 38,
   "metadata": {},
   "outputs": [
    {
     "name": "stdout",
     "output_type": "stream",
     "text": [
      "3     59118\n",
      "10    50835\n",
      "22    47073\n",
      "14    45640\n",
      "9     42884\n",
      "0     41970\n",
      "16    41424\n",
      "7     40891\n",
      "8     39740\n",
      "18    38816\n",
      "2     37826\n",
      "4     36035\n",
      "26    33715\n",
      "21    32687\n",
      "20    29452\n",
      "24    24375\n",
      "25    24256\n",
      "23    24221\n",
      "19    21498\n",
      "12    18890\n",
      "5     18882\n",
      "11    16569\n",
      "15    16084\n",
      "1     11041\n",
      "13     8334\n",
      "27     6817\n",
      "6      4754\n",
      "17     3351\n",
      "dtype: int64\n"
     ]
    }
   ],
   "source": [
    "# Re-fit the k-means model with the selected number of clusters and obtain\n",
    "# cluster predictions for the general population demographics data.\n",
    "kmeans = KMeans(n_clusters=28)\n",
    "model = kmeans.fit(decided_pcs)\n",
    "score = np.abs(model.score(decided_pcs))\n",
    "labels = model.predict(decided_pcs)\n",
    "\n",
    "pdtemp = pd.Series(labels)\n",
    "print(pdtemp.value_counts())"
   ]
  },
  {
   "cell_type": "code",
   "execution_count": 39,
   "metadata": {},
   "outputs": [
    {
     "name": "stdout",
     "output_type": "stream",
     "text": [
      "(817178,)\n"
     ]
    }
   ],
   "source": [
    "print(labels.shape)"
   ]
  },
  {
   "cell_type": "markdown",
   "metadata": {},
   "source": [
    "### Discussion 3.1: Apply Clustering to General Population\n",
    "\n",
    "(Double-click this cell and replace this text with your own text, reporting your findings and decisions regarding clustering. Into how many clusters have you decided to segment the population?)\n",
    "\n",
    "Answer:\n",
    "<br>\n",
    "I determined to use 28 centroids for clustering. I explored the relationship between the number of clusters (10-29) and the clustering error, i.e. the average distance. I found the error decreased with the increasing number of clusters. Thus, I chose a relatively large number, i.e. 28, as the number of clusters. "
   ]
  },
  {
   "cell_type": "markdown",
   "metadata": {},
   "source": [
    "### Step 3.2: Apply All Steps to the Customer Data\n",
    "\n",
    "Now that you have clusters and cluster centers for the general population, it's time to see how the customer data maps on to those clusters. Take care to not confuse this for re-fitting all of the models to the customer data. Instead, you're going to use the fits from the general population to clean, transform, and cluster the customer data. In the last step of the project, you will interpret how the general population fits apply to the customer data.\n",
    "\n",
    "- Don't forget when loading in the customers data, that it is semicolon (`;`) delimited.\n",
    "- Apply the same feature wrangling, selection, and engineering steps to the customer demographics using the `clean_data()` function you created earlier. (You can assume that the customer demographics data has similar meaning behind missing data patterns as the general demographics data.)\n",
    "- Use the sklearn objects from the general demographics data, and apply their transformations to the customers data. That is, you should not be using a `.fit()` or `.fit_transform()` method to re-fit the old objects, nor should you be creating new sklearn objects! Carry the data through the feature scaling, PCA, and clustering steps, obtaining cluster assignments for all of the data in the customer demographics data."
   ]
  },
  {
   "cell_type": "code",
   "execution_count": 40,
   "metadata": {},
   "outputs": [
    {
     "name": "stdout",
     "output_type": "stream",
     "text": [
      "dataframe shape after nan transformation:  (191652, 85)\n",
      "dataframe shape after dropping columns:  (191652, 81)\n",
      "removed features:  ['AGER_TYP', 'TITEL_KZ', 'KK_KUNDENTYP', 'KBA05_BAUMAX']\n",
      "dataframe shape after dropping raws:  (144958, 81)\n",
      "dataframe shape after transforming categorical features:  (144958, 218)\n",
      "dataframe shape after dealing with feature (PRAEGENDE_JUGENDJAHRE):  (144958, 219)\n",
      "dataframe shape after dealing with feature (CAMEO_INTL_2015):  (144958, 220)\n"
     ]
    }
   ],
   "source": [
    "# Load in the customer demographics data.\n",
    "customers = pd.read_csv(\"Udacity_CUSTOMERS_Subset.csv\", sep=';')\n",
    "cleaned_customer_data = clean_data(customers)"
   ]
  },
  {
   "cell_type": "code",
   "execution_count": 41,
   "metadata": {},
   "outputs": [
    {
     "name": "stdout",
     "output_type": "stream",
     "text": [
      "(817178, 221)\n",
      "(144958, 220)\n",
      "{'GEBAEUDETYP_5.0'}\n"
     ]
    }
   ],
   "source": [
    "# check if the 'customers' dataframe has the same columns as before\n",
    "print(cleaned_data.shape)\n",
    "print(cleaned_customer_data.shape)\n",
    "general_columns = set(cleaned_data.columns.tolist())\n",
    "customer_columns = set(cleaned_customer_data.columns.tolist())\n",
    "\n",
    "column_difference = general_columns.difference(customer_columns)\n",
    "print(column_difference)"
   ]
  },
  {
   "cell_type": "code",
   "execution_count": 42,
   "metadata": {},
   "outputs": [
    {
     "data": {
      "text/plain": [
       "155"
      ]
     },
     "execution_count": 42,
     "metadata": {},
     "output_type": "execute_result"
    }
   ],
   "source": [
    "# deal with the missing column\n",
    "cleaned_data.columns.tolist().index('GEBAEUDETYP_5.0')"
   ]
  },
  {
   "cell_type": "code",
   "execution_count": 43,
   "metadata": {},
   "outputs": [],
   "source": [
    "# deal with the missing column\n",
    "cleaned_customer_data.insert(155, 'GEBAEUDETYP_5.0', 0)"
   ]
  },
  {
   "cell_type": "code",
   "execution_count": 44,
   "metadata": {},
   "outputs": [
    {
     "data": {
      "text/plain": [
       "array([ True,  True,  True,  True,  True,  True,  True,  True,  True,\n",
       "        True,  True,  True,  True,  True,  True,  True,  True,  True,\n",
       "        True,  True,  True,  True,  True,  True,  True,  True,  True,\n",
       "        True,  True,  True,  True,  True,  True,  True,  True,  True,\n",
       "        True,  True,  True,  True,  True,  True,  True,  True,  True,\n",
       "        True,  True,  True,  True,  True,  True,  True,  True,  True,\n",
       "        True,  True,  True,  True,  True,  True,  True,  True,  True,\n",
       "        True,  True,  True,  True,  True,  True,  True,  True,  True,\n",
       "        True,  True,  True,  True,  True,  True,  True,  True,  True,\n",
       "        True,  True,  True,  True,  True,  True,  True,  True,  True,\n",
       "        True,  True,  True,  True,  True,  True,  True,  True,  True,\n",
       "        True,  True,  True,  True,  True,  True,  True,  True,  True,\n",
       "        True,  True,  True,  True,  True,  True,  True,  True,  True,\n",
       "        True,  True,  True,  True,  True,  True,  True,  True,  True,\n",
       "        True,  True,  True,  True,  True,  True,  True,  True,  True,\n",
       "        True,  True,  True,  True,  True,  True,  True,  True,  True,\n",
       "        True,  True,  True,  True,  True,  True,  True,  True,  True,\n",
       "        True,  True,  True,  True,  True,  True,  True,  True,  True,\n",
       "        True,  True,  True,  True,  True,  True,  True,  True,  True,\n",
       "        True,  True,  True,  True,  True,  True,  True,  True,  True,\n",
       "        True,  True,  True,  True,  True,  True,  True,  True,  True,\n",
       "        True,  True,  True,  True,  True,  True,  True,  True,  True,\n",
       "        True,  True,  True,  True,  True,  True,  True,  True,  True,\n",
       "        True,  True,  True,  True,  True,  True,  True,  True,  True,\n",
       "        True,  True,  True,  True,  True])"
      ]
     },
     "execution_count": 44,
     "metadata": {},
     "output_type": "execute_result"
    }
   ],
   "source": [
    "# check again if the 'customers' dataframe has the same columns as before\n",
    "cleaned_customer_data.columns == cleaned_data.columns\n"
   ]
  },
  {
   "cell_type": "code",
   "execution_count": 45,
   "metadata": {},
   "outputs": [
    {
     "data": {
      "text/plain": [
       "16    26378\n",
       "22    23019\n",
       "3     13933\n",
       "7     13242\n",
       "26     9559\n",
       "23     6748\n",
       "8      6407\n",
       "10     5882\n",
       "18     4275\n",
       "15     3976\n",
       "25     3735\n",
       "9      3501\n",
       "5      3136\n",
       "6      3124\n",
       "19     2923\n",
       "1      2838\n",
       "17     2805\n",
       "21     1583\n",
       "27     1374\n",
       "24     1142\n",
       "13     1046\n",
       "4       760\n",
       "11      731\n",
       "20      653\n",
       "12      580\n",
       "0       573\n",
       "14      550\n",
       "2       485\n",
       "dtype: int64"
      ]
     },
     "execution_count": 45,
     "metadata": {},
     "output_type": "execute_result"
    }
   ],
   "source": [
    "# Apply preprocessing, feature transformation, and clustering from the general\n",
    "# demographics onto the customer data, obtaining cluster predictions for the\n",
    "# customer demographics data.\n",
    "\n",
    "# imputation\n",
    "imputer_customer = SimpleImputer(strategy='median')\n",
    "cleaned_customer_data_impute = imputer_customer.fit_transform(cleaned_customer_data)\n",
    "\n",
    "# standardization\n",
    "cleaned_imputed_standardized_customer_data = standardizer.transform(cleaned_customer_data_impute)\n",
    "\n",
    "# PCA/dimension reduction\n",
    "decided_customer_pcs = decided_modelPCA.transform(cleaned_imputed_standardized_customer_data)\n",
    "\n",
    "# clustering\n",
    "customer_labels = model.predict(decided_customer_pcs)\n",
    "\n",
    "# label results of clustering\n",
    "pd.Series(customer_labels).value_counts()"
   ]
  },
  {
   "cell_type": "markdown",
   "metadata": {},
   "source": [
    "### Step 3.3: Compare Customer Data to Demographics Data\n",
    "\n",
    "At this point, you have clustered data based on demographics of the general population of Germany, and seen how the customer data for a mail-order sales company maps onto those demographic clusters. In this final substep, you will compare the two cluster distributions to see where the strongest customer base for the company is.\n",
    "\n",
    "Consider the proportion of persons in each cluster for the general population, and the proportions for the customers. If we think the company's customer base to be universal, then the cluster assignment proportions should be fairly similar between the two. If there are only particular segments of the population that are interested in the company's products, then we should see a mismatch from one to the other. If there is a higher proportion of persons in a cluster for the customer data compared to the general population (e.g. 5% of persons are assigned to a cluster for the general population, but 15% of the customer data is closest to that cluster's centroid) then that suggests the people in that cluster to be a target audience for the company. On the other hand, the proportion of the data in a cluster being larger in the general population than the customer data (e.g. only 2% of customers closest to a population centroid that captures 6% of the data) suggests that group of persons to be outside of the target demographics.\n",
    "\n",
    "Take a look at the following points in this step:\n",
    "\n",
    "- Compute the proportion of data points in each cluster for the general population and the customer data. Visualizations will be useful here: both for the individual dataset proportions, but also to visualize the ratios in cluster representation between groups. Seaborn's [`countplot()`](https://seaborn.pydata.org/generated/seaborn.countplot.html) or [`barplot()`](https://seaborn.pydata.org/generated/seaborn.barplot.html) function could be handy.\n",
    "  - Recall the analysis you performed in step 1.1.3 of the project, where you separated out certain data points from the dataset if they had more than a specified threshold of missing values. If you found that this group was qualitatively different from the main bulk of the data, you should treat this as an additional data cluster in this analysis. Make sure that you account for the number of data points in this subset, for both the general population and customer datasets, when making your computations!\n",
    "- Which cluster or clusters are overrepresented in the customer dataset compared to the general population? Select at least one such cluster and infer what kind of people might be represented by that cluster. Use the principal component interpretations from step 2.3 or look at additional components to help you make this inference. Alternatively, you can use the `.inverse_transform()` method of the PCA and StandardScaler objects to transform centroids back to the original data space and interpret the retrieved values directly.\n",
    "- Perform a similar investigation for the underrepresented clusters. Which cluster or clusters are underrepresented in the customer dataset compared to the general population, and what kinds of people are typified by these clusters?"
   ]
  },
  {
   "cell_type": "code",
   "execution_count": 46,
   "metadata": {},
   "outputs": [
    {
     "name": "stdout",
     "output_type": "stream",
     "text": [
      "unused dataset of general population:  74043\n",
      "unused dataset of customers:  46694\n"
     ]
    },
    {
     "name": "stderr",
     "output_type": "stream",
     "text": [
      "C:\\Users\\Public\\Anaconda3\\lib\\site-packages\\scipy\\stats\\stats.py:1713: FutureWarning: Using a non-tuple sequence for multidimensional indexing is deprecated; use `arr[tuple(seq)]` instead of `arr[seq]`. In the future this will be interpreted as an array index, `arr[np.array(seq)]`, which will result either in an error or a different result.\n",
      "  return np.add.reduce(sorted[indexer] * weights, axis=axis) / sumval\n"
     ]
    },
    {
     "data": {
      "image/png": "[encoded data removed]",
      "text/plain": [
       "<Figure size 720x720 with 2 Axes>"
      ]
     },
     "metadata": {},
     "output_type": "display_data"
    }
   ],
   "source": [
    "# Compare the proportion of data in each cluster for the customer data to the\n",
    "# proportion of data in each cluster for the general population.\n",
    "\n",
    "# unused data for general population dataset and customer dataset\n",
    "general_unused_data = azdias.shape[0] - labels.shape[0]\n",
    "customer_unused_data = customers.shape[0] - customer_labels.shape[0]\n",
    "print('unused dataset of general population: ', general_unused_data)\n",
    "print('unused dataset of customers: ', customer_unused_data)\n",
    "\n",
    "# append missing value cluster to general population dataset\n",
    "gen_results = pd.DataFrame(labels, columns = ['class'])\n",
    "missing_gen = np.array([28]*general_unused_data)\n",
    "missing_gen_data = pd.DataFrame(missing_gen, columns = ['class'])\n",
    "general_total = pd.concat([gen_results, missing_gen_data]).reset_index(drop=True)\n",
    "\n",
    "# append missing value cluster to customer dataset\n",
    "cus_results = pd.DataFrame(customer_labels, columns = ['class'])\n",
    "missing_cus = np.array([28]*customer_unused_data)\n",
    "missing_cus_data = pd.DataFrame(missing_cus, columns = ['class'])\n",
    "customer_total = pd.concat([cus_results, missing_cus_data]).reset_index(drop=True)\n",
    "\n",
    "# visualization: customer vs. general population\n",
    "sns.set(style=\"white\", palette=\"muted\", color_codes=True)\n",
    "f, axes = plt.subplots(2, 1, figsize=(10, 10))\n",
    "\n",
    "sns.barplot(x=\"class\", y=\"class\", data=customer_total, estimator=lambda x: len(x) / len(customer_total) * 100, ax=axes[0])\n",
    "sns.barplot(x=\"class\", y=\"class\", data=general_total, estimator=lambda x: len(x) / len(general_total) * 100, ax=axes[1])\n",
    "\n",
    "plt.setp(axes, ylabel=\"Percent (%)\")\n",
    "plt.tight_layout()"
   ]
  },
  {
   "cell_type": "code",
   "execution_count": 47,
   "metadata": {},
   "outputs": [
    {
     "data": {
      "text/plain": [
       "GEBAEUDETYP_4.0        -1.000000\n",
       "LP_FAMILIE_GROB_1.0    -1.000000\n",
       "LP_FAMILIE_FEIN_1.0    -1.000000\n",
       "ZABEOTYP_5.0           -0.960458\n",
       "LP_FAMILIE_GROB_2.0    -0.941837\n",
       "LP_FAMILIE_FEIN_2.0    -0.941837\n",
       "LP_STATUS_FEIN_2.0     -0.912756\n",
       "FINANZTYP_4.0          -0.865755\n",
       "GEBAEUDETYP_2.0        -0.861435\n",
       "FINANZTYP_1.0          -0.837183\n",
       "ZABEOTYP_6.0           -0.818262\n",
       "FINANZTYP_3.0          -0.777261\n",
       "LP_STATUS_GROB_1.0     -0.770185\n",
       "LP_STATUS_FEIN_1.0     -0.730088\n",
       "GFK_URLAUBERTYP_12.0   -0.686671\n",
       "LP_STATUS_FEIN_4.0     -0.630494\n",
       "NATIONALITAET_KZ_2.0   -0.625419\n",
       "CAMEO_DEUG_2015_nan    -0.607400\n",
       "CAMEO_DEU_2015_nan     -0.607400\n",
       "NATIONALITAET_KZ_3.0   -0.591809\n",
       "ZABEOTYP_2.0           -0.562965\n",
       "OST_WEST_KZ_O          -0.555652\n",
       "GFK_URLAUBERTYP_2.0    -0.554110\n",
       "LP_FAMILIE_FEIN_6.0    -0.551314\n",
       "ZABEOTYP_4.0           -0.538154\n",
       "ANREDE_KZ_2.0          -0.510259\n",
       "CJT_GESAMTTYP_6.0      -0.487234\n",
       "GEBAEUDETYP_6.0        -0.476533\n",
       "CAMEO_DEU_2015_3A      -0.437417\n",
       "GREEN_AVANTGARDE_0.0   -0.413280\n",
       "                          ...   \n",
       "CAMEO_DEU_2015_1A       0.452974\n",
       "ANREDE_KZ_1.0           0.483159\n",
       "CAMEO_DEU_2015_7E       0.518053\n",
       "GFK_URLAUBERTYP_4.0     0.630077\n",
       "CAMEO_DEU_2015_1C       0.679078\n",
       "ANZ_TITEL               0.812000\n",
       "CAMEO_DEU_2015_1E       0.863473\n",
       "LP_STATUS_FEIN_8.0      1.355599\n",
       "FINANZTYP_5.0           1.386289\n",
       "LP_STATUS_FEIN_7.0      2.058147\n",
       "LP_STATUS_GROB_3.0      2.058147\n",
       "LP_FAMILIE_FEIN_4.0          inf\n",
       "ANREDE_KZ_nan                NaN\n",
       "CJT_GESAMTTYP_nan            NaN\n",
       "FINANZTYP_nan                NaN\n",
       "GFK_URLAUBERTYP_nan          NaN\n",
       "GREEN_AVANTGARDE_nan         NaN\n",
       "LP_FAMILIE_FEIN_3.0          NaN\n",
       "LP_FAMILIE_FEIN_8.0          NaN\n",
       "LP_FAMILIE_FEIN_nan          NaN\n",
       "LP_FAMILIE_GROB_nan          NaN\n",
       "LP_STATUS_FEIN_6.0           NaN\n",
       "LP_STATUS_FEIN_nan           NaN\n",
       "LP_STATUS_GROB_nan           NaN\n",
       "SOHO_KZ_1.0                  NaN\n",
       "SOHO_KZ_nan                  NaN\n",
       "ZABEOTYP_nan                 NaN\n",
       "GEBAEUDETYP_5.0              NaN\n",
       "GEBAEUDETYP_nan              NaN\n",
       "OST_WEST_KZ_nan              NaN\n",
       "Length: 221, dtype: float64"
      ]
     },
     "execution_count": 47,
     "metadata": {},
     "output_type": "execute_result"
    }
   ],
   "source": [
    "# What kinds of people are part of a cluster that is overrepresented in the\n",
    "# customer data compared to the general population?\n",
    "cus_indices = cus_results.index[cus_results['class'] == 16].tolist()\n",
    "gen_indices = gen_results.index[gen_results['class'] == 16].tolist()\n",
    "\n",
    "cus_origin_data = pd.DataFrame(np.array(cleaned_customer_data), columns = cleaned_data.columns).iloc[cus_indices, :]\n",
    "gen_origin_data = pd.DataFrame(np.array(cleaned_data), columns = cleaned_data.columns).iloc[gen_indices, :]\n",
    "\n",
    "cus_means = cus_origin_data.mean(axis=0, skipna=True)\n",
    "gen_means = gen_origin_data.mean(axis=0, skipna=True)\n",
    "\n",
    "relative_differences = (cus_means - gen_means) / gen_means\n",
    "sorted_relative_differences = relative_differences.sort_values()\n",
    "sorted_relative_differences\n"
   ]
  },
  {
   "cell_type": "code",
   "execution_count": 48,
   "metadata": {},
   "outputs": [
    {
     "data": {
      "text/plain": [
       "LP_FAMILIE_GROB_3.0     -1.000000\n",
       "LP_FAMILIE_FEIN_10.0    -1.000000\n",
       "LP_FAMILIE_FEIN_9.0     -1.000000\n",
       "LP_FAMILIE_FEIN_5.0     -1.000000\n",
       "LP_FAMILIE_FEIN_4.0     -1.000000\n",
       "GEBAEUDETYP_4.0         -1.000000\n",
       "ANZ_TITEL               -1.000000\n",
       "GEBAEUDETYP_6.0         -1.000000\n",
       "CAMEO_DEU_2015_1B       -1.000000\n",
       "CAMEO_DEU_2015_1D       -1.000000\n",
       "CAMEO_DEU_2015_1E       -1.000000\n",
       "CAMEO_DEU_2015_2A       -1.000000\n",
       "CAMEO_DEU_2015_2C       -1.000000\n",
       "ANREDE_KZ_1.0           -1.000000\n",
       "CAMEO_DEU_2015_3A       -1.000000\n",
       "CAMEO_DEU_2015_3B       -1.000000\n",
       "LP_FAMILIE_FEIN_11.0    -1.000000\n",
       "VERS_TYP_nan            -1.000000\n",
       "GEBAEUDETYP_2.0         -1.000000\n",
       "LP_FAMILIE_GROB_5.0     -1.000000\n",
       "SHOPPER_TYP_nan         -1.000000\n",
       "LP_STATUS_FEIN_10.0     -1.000000\n",
       "LP_STATUS_GROB_5.0      -1.000000\n",
       "LP_STATUS_FEIN_8.0      -1.000000\n",
       "CAMEO_DEU_2015_6D       -0.746233\n",
       "CAMEO_DEU_2015_5B       -0.665396\n",
       "CAMEO_DEU_2015_5C       -0.617595\n",
       "CAMEO_DEUG_2015_1       -0.524459\n",
       "CAMEO_DEU_2015_1A       -0.490909\n",
       "CAMEO_DEU_2015_9A       -0.465094\n",
       "                          ...    \n",
       "CAMEO_DEU_2015_2B        1.127739\n",
       "LP_STATUS_FEIN_3.0       1.140654\n",
       "CAMEO_DEU_2015_5D        1.450583\n",
       "LP_STATUS_GROB_4.0       1.529933\n",
       "ZABEOTYP_1.0             1.861442\n",
       "FINANZTYP_5.0            1.911643\n",
       "LP_STATUS_FEIN_9.0       1.921895\n",
       "FINANZTYP_3.0            2.191608\n",
       "LP_STATUS_FEIN_5.0       2.373245\n",
       "CAMEO_DEU_2015_9E        3.047894\n",
       "LP_FAMILIE_GROB_4.0      3.081073\n",
       "FINANZTYP_2.0            4.927273\n",
       "LP_FAMILIE_FEIN_7.0      8.220202\n",
       "LP_FAMILIE_FEIN_6.0     12.830303\n",
       "ANREDE_KZ_nan                 NaN\n",
       "CJT_GESAMTTYP_nan             NaN\n",
       "FINANZTYP_nan                 NaN\n",
       "GFK_URLAUBERTYP_nan           NaN\n",
       "GREEN_AVANTGARDE_nan          NaN\n",
       "LP_FAMILIE_FEIN_3.0           NaN\n",
       "LP_STATUS_FEIN_nan            NaN\n",
       "LP_STATUS_GROB_nan            NaN\n",
       "NATIONALITAET_KZ_nan          NaN\n",
       "SOHO_KZ_1.0                   NaN\n",
       "SOHO_KZ_nan                   NaN\n",
       "ZABEOTYP_nan                  NaN\n",
       "GEBAEUDETYP_5.0               NaN\n",
       "GEBAEUDETYP_nan               NaN\n",
       "OST_WEST_KZ_nan               NaN\n",
       "CAMEO_DEU_2015_7C             NaN\n",
       "Length: 221, dtype: float64"
      ]
     },
     "execution_count": 48,
     "metadata": {},
     "output_type": "execute_result"
    }
   ],
   "source": [
    "# What kinds of people are part of a cluster that is underrepresented in the\n",
    "# customer data compared to the general population?\n",
    "cus_indices_under = cus_results.index[cus_results['class'] == 14].tolist()\n",
    "gen_indices_under = gen_results.index[gen_results['class'] == 14].tolist()\n",
    "\n",
    "\n",
    "cus_origin_data_under = pd.DataFrame(np.array(cleaned_customer_data), columns = cleaned_data.columns).iloc[cus_indices_under, :]\n",
    "\n",
    "gen_origin_data_under = pd.DataFrame(np.array(cleaned_data), columns = cleaned_data.columns).iloc[gen_indices_under, :]\n",
    "\n",
    "cus_means_under = cus_origin_data_under.mean(axis=0, skipna=True)\n",
    "gen_means_under = gen_origin_data_under.mean(axis=0, skipna=True)\n",
    "\n",
    "relative_differences_under = (cus_means_under - gen_means_under) / gen_means_under\n",
    "sorted_relative_differences_under = relative_differences_under.sort_values()\n",
    "sorted_relative_differences_under\n"
   ]
  },
  {
   "cell_type": "markdown",
   "metadata": {},
   "source": [
    "### Discussion 3.3: Compare Customer Data to Demographics Data\n",
    "\n",
    "(Double-click this cell and replace this text with your own text, reporting findings and conclusions from the clustering analysis. Can we describe segments of the population that are relatively popular with the mail-order company, or relatively unpopular with the company?)\n",
    "\n",
    "As for cluster 16, its percentage in customer dataset is much higher than that in general people dataset, which suggests this cluster could represent some target customers. In this cluster, the relative differences between feature means of customer dataset and the general people dataset are calculated.\n",
    "The relative differences suggest population that are relatively popular with the mail-order company include:\n",
    "1) title holder-households as their social status\n",
    "2) investor as their most descriptive financial type for individual\n",
    "3) new houseowners as their social status\n",
    "\n",
    "As for cluster 14, its percentage in customer dataset is much lower than that in general people dataset, which suggests this cluster could represent some nontarget customers. In this cluster, the relative differences between feature means of customer dataset and the general people dataset are calculated.\n",
    "The relative differences suggest population that are relatively unpopular with the mail-order company include:\n",
    "1) young family as their family type\n",
    "2) family with teenager  as their family type\n",
    "3) money-saver as the most descriptive financial type for individual \n"
   ]
  },
  {
   "cell_type": "code",
   "execution_count": null,
   "metadata": {},
   "outputs": [],
   "source": []
  }
 ],
 "metadata": {
  "kernelspec": {
   "display_name": "Python 3",
   "language": "python",
   "name": "python3"
  },
  "language_info": {
   "codemirror_mode": {
    "name": "ipython",
    "version": 3
   },
   "file_extension": ".py",
   "mimetype": "text/x-python",
   "name": "python",
   "nbconvert_exporter": "python",
   "pygments_lexer": "ipython3",
   "version": "3.7.1"
  }
 },
 "nbformat": 4,
 "nbformat_minor": 2
}
